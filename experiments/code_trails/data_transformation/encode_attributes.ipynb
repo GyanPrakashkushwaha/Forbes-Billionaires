{
 "cells": [
  {
   "cell_type": "code",
   "execution_count": 141,
   "metadata": {},
   "outputs": [
    {
     "name": "stdout",
     "output_type": "stream",
     "text": [
      "d:\\vscode_machineLearning\\BEST_PROJECTS\\ForbsBillionaires\n",
      "d:\\vscode_machineLearning\\BEST_PROJECTS\\ForbsBillionaires\n"
     ]
    }
   ],
   "source": [
    "import os\n",
    "print(os.getcwd())\n",
    "os.chdir(\"d:/vscode_machineLearning/BEST_PROJECTS/ForbsBillionaires\")\n",
    "print(os.getcwd())"
   ]
  },
  {
   "cell_type": "code",
   "execution_count": 142,
   "metadata": {},
   "outputs": [],
   "source": [
    "import pandas as pd"
   ]
  },
  {
   "cell_type": "code",
   "execution_count": 143,
   "metadata": {},
   "outputs": [],
   "source": [
    "df = pd.read_csv(r'artifacts/cleand_data/not_encoded_data.csv')"
   ]
  },
  {
   "cell_type": "code",
   "execution_count": 144,
   "metadata": {},
   "outputs": [
    {
     "data": {
      "text/html": [
       "<div>\n",
       "<style scoped>\n",
       "    .dataframe tbody tr th:only-of-type {\n",
       "        vertical-align: middle;\n",
       "    }\n",
       "\n",
       "    .dataframe tbody tr th {\n",
       "        vertical-align: top;\n",
       "    }\n",
       "\n",
       "    .dataframe thead th {\n",
       "        text-align: right;\n",
       "    }\n",
       "</style>\n",
       "<table border=\"1\" class=\"dataframe\">\n",
       "  <thead>\n",
       "    <tr style=\"text-align: right;\">\n",
       "      <th></th>\n",
       "      <th>rank</th>\n",
       "      <th>net_worth</th>\n",
       "      <th>full_name</th>\n",
       "      <th>age</th>\n",
       "      <th>gender</th>\n",
       "      <th>country_of_citizenship</th>\n",
       "      <th>city_of_residence</th>\n",
       "      <th>business_category</th>\n",
       "      <th>self_made</th>\n",
       "      <th>wealth_status</th>\n",
       "    </tr>\n",
       "  </thead>\n",
       "  <tbody>\n",
       "    <tr>\n",
       "      <th>0</th>\n",
       "      <td>1</td>\n",
       "      <td>211</td>\n",
       "      <td>Bernard Arnault &amp; family</td>\n",
       "      <td>74</td>\n",
       "      <td>Male</td>\n",
       "      <td>France</td>\n",
       "      <td>Paris</td>\n",
       "      <td>Fashion &amp; Retail</td>\n",
       "      <td>False</td>\n",
       "      <td>Increased</td>\n",
       "    </tr>\n",
       "    <tr>\n",
       "      <th>1</th>\n",
       "      <td>2</td>\n",
       "      <td>180</td>\n",
       "      <td>Elon Musk</td>\n",
       "      <td>51</td>\n",
       "      <td>Male</td>\n",
       "      <td>United States</td>\n",
       "      <td>Austin</td>\n",
       "      <td>Automotive</td>\n",
       "      <td>True</td>\n",
       "      <td>Decreased</td>\n",
       "    </tr>\n",
       "    <tr>\n",
       "      <th>2</th>\n",
       "      <td>3</td>\n",
       "      <td>114</td>\n",
       "      <td>Jeff Bezos</td>\n",
       "      <td>59</td>\n",
       "      <td>Male</td>\n",
       "      <td>United States</td>\n",
       "      <td>Medina</td>\n",
       "      <td>Technology</td>\n",
       "      <td>True</td>\n",
       "      <td>Decreased</td>\n",
       "    </tr>\n",
       "    <tr>\n",
       "      <th>3</th>\n",
       "      <td>4</td>\n",
       "      <td>107</td>\n",
       "      <td>Larry Ellison</td>\n",
       "      <td>78</td>\n",
       "      <td>Male</td>\n",
       "      <td>United States</td>\n",
       "      <td>Lanai</td>\n",
       "      <td>Technology</td>\n",
       "      <td>True</td>\n",
       "      <td>Increased</td>\n",
       "    </tr>\n",
       "    <tr>\n",
       "      <th>4</th>\n",
       "      <td>5</td>\n",
       "      <td>106</td>\n",
       "      <td>Warren Buffett</td>\n",
       "      <td>92</td>\n",
       "      <td>Male</td>\n",
       "      <td>United States</td>\n",
       "      <td>Omaha</td>\n",
       "      <td>Finance &amp; Investments</td>\n",
       "      <td>True</td>\n",
       "      <td>Decreased</td>\n",
       "    </tr>\n",
       "    <tr>\n",
       "      <th>...</th>\n",
       "      <td>...</td>\n",
       "      <td>...</td>\n",
       "      <td>...</td>\n",
       "      <td>...</td>\n",
       "      <td>...</td>\n",
       "      <td>...</td>\n",
       "      <td>...</td>\n",
       "      <td>...</td>\n",
       "      <td>...</td>\n",
       "      <td>...</td>\n",
       "    </tr>\n",
       "    <tr>\n",
       "      <th>2333</th>\n",
       "      <td>2540</td>\n",
       "      <td>1</td>\n",
       "      <td>Yu Rong</td>\n",
       "      <td>51</td>\n",
       "      <td>Male</td>\n",
       "      <td>China</td>\n",
       "      <td>Shanghai</td>\n",
       "      <td>Healthcare</td>\n",
       "      <td>True</td>\n",
       "      <td>Decreased</td>\n",
       "    </tr>\n",
       "    <tr>\n",
       "      <th>2334</th>\n",
       "      <td>2540</td>\n",
       "      <td>1</td>\n",
       "      <td>Richard Yuengling, Jr.</td>\n",
       "      <td>80</td>\n",
       "      <td>Male</td>\n",
       "      <td>United States</td>\n",
       "      <td>Pottsville</td>\n",
       "      <td>Food &amp; Beverage</td>\n",
       "      <td>False</td>\n",
       "      <td>Remained Even</td>\n",
       "    </tr>\n",
       "    <tr>\n",
       "      <th>2335</th>\n",
       "      <td>2540</td>\n",
       "      <td>1</td>\n",
       "      <td>Zhang Gongyun</td>\n",
       "      <td>60</td>\n",
       "      <td>Male</td>\n",
       "      <td>China</td>\n",
       "      <td>Gaomi</td>\n",
       "      <td>Manufacturing</td>\n",
       "      <td>True</td>\n",
       "      <td>Returned to List</td>\n",
       "    </tr>\n",
       "    <tr>\n",
       "      <th>2336</th>\n",
       "      <td>2540</td>\n",
       "      <td>1</td>\n",
       "      <td>Zhang Guiping &amp; family</td>\n",
       "      <td>71</td>\n",
       "      <td>Male</td>\n",
       "      <td>China</td>\n",
       "      <td>Nanjing</td>\n",
       "      <td>Real Estate</td>\n",
       "      <td>True</td>\n",
       "      <td>Decreased</td>\n",
       "    </tr>\n",
       "    <tr>\n",
       "      <th>2337</th>\n",
       "      <td>2540</td>\n",
       "      <td>1</td>\n",
       "      <td>Inigo Zobel</td>\n",
       "      <td>66</td>\n",
       "      <td>Male</td>\n",
       "      <td>Philippines</td>\n",
       "      <td>Makati</td>\n",
       "      <td>Diversified</td>\n",
       "      <td>False</td>\n",
       "      <td>Returned to List</td>\n",
       "    </tr>\n",
       "  </tbody>\n",
       "</table>\n",
       "<p>2338 rows × 10 columns</p>\n",
       "</div>"
      ],
      "text/plain": [
       "      rank  net_worth                 full_name  age gender  \\\n",
       "0        1        211  Bernard Arnault & family   74   Male   \n",
       "1        2        180                 Elon Musk   51   Male   \n",
       "2        3        114                Jeff Bezos   59   Male   \n",
       "3        4        107             Larry Ellison   78   Male   \n",
       "4        5        106            Warren Buffett   92   Male   \n",
       "...    ...        ...                       ...  ...    ...   \n",
       "2333  2540          1                   Yu Rong   51   Male   \n",
       "2334  2540          1    Richard Yuengling, Jr.   80   Male   \n",
       "2335  2540          1             Zhang Gongyun   60   Male   \n",
       "2336  2540          1    Zhang Guiping & family   71   Male   \n",
       "2337  2540          1               Inigo Zobel   66   Male   \n",
       "\n",
       "     country_of_citizenship city_of_residence      business_category  \\\n",
       "0                    France             Paris       Fashion & Retail   \n",
       "1             United States            Austin             Automotive   \n",
       "2             United States            Medina             Technology   \n",
       "3             United States             Lanai             Technology   \n",
       "4             United States             Omaha  Finance & Investments   \n",
       "...                     ...               ...                    ...   \n",
       "2333                  China          Shanghai             Healthcare   \n",
       "2334          United States        Pottsville        Food & Beverage   \n",
       "2335                  China             Gaomi          Manufacturing   \n",
       "2336                  China           Nanjing            Real Estate   \n",
       "2337            Philippines            Makati            Diversified   \n",
       "\n",
       "      self_made     wealth_status  \n",
       "0         False         Increased  \n",
       "1          True         Decreased  \n",
       "2          True         Decreased  \n",
       "3          True         Increased  \n",
       "4          True         Decreased  \n",
       "...         ...               ...  \n",
       "2333       True         Decreased  \n",
       "2334      False     Remained Even  \n",
       "2335       True  Returned to List  \n",
       "2336       True         Decreased  \n",
       "2337      False  Returned to List  \n",
       "\n",
       "[2338 rows x 10 columns]"
      ]
     },
     "execution_count": 144,
     "metadata": {},
     "output_type": "execute_result"
    }
   ],
   "source": [
    "df"
   ]
  },
  {
   "cell_type": "code",
   "execution_count": 145,
   "metadata": {},
   "outputs": [
    {
     "data": {
      "text/plain": [
       "rank                       216\n",
       "net_worth                   61\n",
       "full_name                 2336\n",
       "age                         74\n",
       "gender                       2\n",
       "country_of_citizenship      75\n",
       "city_of_residence          699\n",
       "business_category           18\n",
       "self_made                    2\n",
       "wealth_status                4\n",
       "dtype: int64"
      ]
     },
     "execution_count": 145,
     "metadata": {},
     "output_type": "execute_result"
    }
   ],
   "source": [
    "df.nunique()"
   ]
  },
  {
   "cell_type": "markdown",
   "metadata": {},
   "source": [
    "## Binary output features-\n",
    "- gender\n",
    "- self_made"
   ]
  },
  {
   "cell_type": "markdown",
   "metadata": {},
   "source": [
    "### encoding the Binary output features."
   ]
  },
  {
   "cell_type": "code",
   "execution_count": 146,
   "metadata": {},
   "outputs": [],
   "source": [
    "from sklearn.preprocessing import LabelEncoder"
   ]
  },
  {
   "cell_type": "code",
   "execution_count": 147,
   "metadata": {},
   "outputs": [
    {
     "name": "stderr",
     "output_type": "stream",
     "text": [
      "d:\\vscode_machineLearning\\BEST_PROJECTS\\ForbsBillionaires\\forbesvenv\\Lib\\site-packages\\sklearn\\preprocessing\\_label.py:114: DataConversionWarning: A column-vector y was passed when a 1d array was expected. Please change the shape of y to (n_samples, ), for example using ravel().\n",
      "  y = column_or_1d(y, warn=True)\n",
      "d:\\vscode_machineLearning\\BEST_PROJECTS\\ForbsBillionaires\\forbesvenv\\Lib\\site-packages\\sklearn\\preprocessing\\_label.py:114: DataConversionWarning: A column-vector y was passed when a 1d array was expected. Please change the shape of y to (n_samples, ), for example using ravel().\n",
      "  y = column_or_1d(y, warn=True)\n"
     ]
    }
   ],
   "source": [
    "encoder = LabelEncoder()\n",
    "df['gender']= encoder.fit_transform(df[['gender']])\n",
    "df['self_made'] = encoder.fit_transform(df[['self_made']])"
   ]
  },
  {
   "cell_type": "code",
   "execution_count": 148,
   "metadata": {},
   "outputs": [
    {
     "data": {
      "text/plain": [
       "self_made\n",
       "1    1662\n",
       "0     676\n",
       "Name: count, dtype: int64"
      ]
     },
     "execution_count": 148,
     "metadata": {},
     "output_type": "execute_result"
    }
   ],
   "source": [
    "df['self_made'].value_counts()"
   ]
  },
  {
   "cell_type": "markdown",
   "metadata": {},
   "source": [
    "## wealth status"
   ]
  },
  {
   "cell_type": "code",
   "execution_count": 149,
   "metadata": {},
   "outputs": [
    {
     "data": {
      "text/plain": [
       "wealth_status\n",
       "Decreased           1191\n",
       "Increased            828\n",
       "Remained Even        256\n",
       "Returned to List      63\n",
       "Name: count, dtype: int64"
      ]
     },
     "execution_count": 149,
     "metadata": {},
     "output_type": "execute_result"
    }
   ],
   "source": [
    "df['wealth_status'].value_counts()"
   ]
  },
  {
   "cell_type": "markdown",
   "metadata": {},
   "source": [
    "#### this should be in the correct form"
   ]
  },
  {
   "cell_type": "code",
   "execution_count": 150,
   "metadata": {},
   "outputs": [],
   "source": [
    "from sklearn.preprocessing import OrdinalEncoder"
   ]
  },
  {
   "cell_type": "code",
   "execution_count": 151,
   "metadata": {},
   "outputs": [
    {
     "data": {
      "text/html": [
       "<style>#sk-container-id-8 {color: black;}#sk-container-id-8 pre{padding: 0;}#sk-container-id-8 div.sk-toggleable {background-color: white;}#sk-container-id-8 label.sk-toggleable__label {cursor: pointer;display: block;width: 100%;margin-bottom: 0;padding: 0.3em;box-sizing: border-box;text-align: center;}#sk-container-id-8 label.sk-toggleable__label-arrow:before {content: \"▸\";float: left;margin-right: 0.25em;color: #696969;}#sk-container-id-8 label.sk-toggleable__label-arrow:hover:before {color: black;}#sk-container-id-8 div.sk-estimator:hover label.sk-toggleable__label-arrow:before {color: black;}#sk-container-id-8 div.sk-toggleable__content {max-height: 0;max-width: 0;overflow: hidden;text-align: left;background-color: #f0f8ff;}#sk-container-id-8 div.sk-toggleable__content pre {margin: 0.2em;color: black;border-radius: 0.25em;background-color: #f0f8ff;}#sk-container-id-8 input.sk-toggleable__control:checked~div.sk-toggleable__content {max-height: 200px;max-width: 100%;overflow: auto;}#sk-container-id-8 input.sk-toggleable__control:checked~label.sk-toggleable__label-arrow:before {content: \"▾\";}#sk-container-id-8 div.sk-estimator input.sk-toggleable__control:checked~label.sk-toggleable__label {background-color: #d4ebff;}#sk-container-id-8 div.sk-label input.sk-toggleable__control:checked~label.sk-toggleable__label {background-color: #d4ebff;}#sk-container-id-8 input.sk-hidden--visually {border: 0;clip: rect(1px 1px 1px 1px);clip: rect(1px, 1px, 1px, 1px);height: 1px;margin: -1px;overflow: hidden;padding: 0;position: absolute;width: 1px;}#sk-container-id-8 div.sk-estimator {font-family: monospace;background-color: #f0f8ff;border: 1px dotted black;border-radius: 0.25em;box-sizing: border-box;margin-bottom: 0.5em;}#sk-container-id-8 div.sk-estimator:hover {background-color: #d4ebff;}#sk-container-id-8 div.sk-parallel-item::after {content: \"\";width: 100%;border-bottom: 1px solid gray;flex-grow: 1;}#sk-container-id-8 div.sk-label:hover label.sk-toggleable__label {background-color: #d4ebff;}#sk-container-id-8 div.sk-serial::before {content: \"\";position: absolute;border-left: 1px solid gray;box-sizing: border-box;top: 0;bottom: 0;left: 50%;z-index: 0;}#sk-container-id-8 div.sk-serial {display: flex;flex-direction: column;align-items: center;background-color: white;padding-right: 0.2em;padding-left: 0.2em;position: relative;}#sk-container-id-8 div.sk-item {position: relative;z-index: 1;}#sk-container-id-8 div.sk-parallel {display: flex;align-items: stretch;justify-content: center;background-color: white;position: relative;}#sk-container-id-8 div.sk-item::before, #sk-container-id-8 div.sk-parallel-item::before {content: \"\";position: absolute;border-left: 1px solid gray;box-sizing: border-box;top: 0;bottom: 0;left: 50%;z-index: -1;}#sk-container-id-8 div.sk-parallel-item {display: flex;flex-direction: column;z-index: 1;position: relative;background-color: white;}#sk-container-id-8 div.sk-parallel-item:first-child::after {align-self: flex-end;width: 50%;}#sk-container-id-8 div.sk-parallel-item:last-child::after {align-self: flex-start;width: 50%;}#sk-container-id-8 div.sk-parallel-item:only-child::after {width: 0;}#sk-container-id-8 div.sk-dashed-wrapped {border: 1px dashed gray;margin: 0 0.4em 0.5em 0.4em;box-sizing: border-box;padding-bottom: 0.4em;background-color: white;}#sk-container-id-8 div.sk-label label {font-family: monospace;font-weight: bold;display: inline-block;line-height: 1.2em;}#sk-container-id-8 div.sk-label-container {text-align: center;}#sk-container-id-8 div.sk-container {/* jupyter's `normalize.less` sets `[hidden] { display: none; }` but bootstrap.min.css set `[hidden] { display: none !important; }` so we also need the `!important` here to be able to override the default hidden behavior on the sphinx rendered scikit-learn.org. See: https://github.com/scikit-learn/scikit-learn/issues/21755 */display: inline-block !important;position: relative;}#sk-container-id-8 div.sk-text-repr-fallback {display: none;}</style><div id=\"sk-container-id-8\" class=\"sk-top-container\"><div class=\"sk-text-repr-fallback\"><pre>OrdinalEncoder(categories=[[&#x27;Returned to List&#x27;, &#x27;Decreased&#x27;, &#x27;Remained Even&#x27;,\n",
       "                            &#x27;Increased&#x27;]])</pre><b>In a Jupyter environment, please rerun this cell to show the HTML representation or trust the notebook. <br />On GitHub, the HTML representation is unable to render, please try loading this page with nbviewer.org.</b></div><div class=\"sk-container\" hidden><div class=\"sk-item\"><div class=\"sk-estimator sk-toggleable\"><input class=\"sk-toggleable__control sk-hidden--visually\" id=\"sk-estimator-id-8\" type=\"checkbox\" checked><label for=\"sk-estimator-id-8\" class=\"sk-toggleable__label sk-toggleable__label-arrow\">OrdinalEncoder</label><div class=\"sk-toggleable__content\"><pre>OrdinalEncoder(categories=[[&#x27;Returned to List&#x27;, &#x27;Decreased&#x27;, &#x27;Remained Even&#x27;,\n",
       "                            &#x27;Increased&#x27;]])</pre></div></div></div></div></div>"
      ],
      "text/plain": [
       "OrdinalEncoder(categories=[['Returned to List', 'Decreased', 'Remained Even',\n",
       "                            'Increased']])"
      ]
     },
     "execution_count": 151,
     "metadata": {},
     "output_type": "execute_result"
    }
   ],
   "source": [
    "ordinal_encoder = OrdinalEncoder(categories=[['Returned to List','Decreased','Remained Even','Increased']])\n",
    "ordinal_encoder"
   ]
  },
  {
   "cell_type": "code",
   "execution_count": 152,
   "metadata": {},
   "outputs": [],
   "source": [
    "df['wealth_status'] = ordinal_encoder.fit_transform(df[['wealth_status']])"
   ]
  },
  {
   "cell_type": "code",
   "execution_count": 153,
   "metadata": {},
   "outputs": [],
   "source": [
    "df['wealth_status'] =df['wealth_status'].astype(int)"
   ]
  },
  {
   "cell_type": "code",
   "execution_count": 154,
   "metadata": {},
   "outputs": [
    {
     "data": {
      "text/html": [
       "<div>\n",
       "<style scoped>\n",
       "    .dataframe tbody tr th:only-of-type {\n",
       "        vertical-align: middle;\n",
       "    }\n",
       "\n",
       "    .dataframe tbody tr th {\n",
       "        vertical-align: top;\n",
       "    }\n",
       "\n",
       "    .dataframe thead th {\n",
       "        text-align: right;\n",
       "    }\n",
       "</style>\n",
       "<table border=\"1\" class=\"dataframe\">\n",
       "  <thead>\n",
       "    <tr style=\"text-align: right;\">\n",
       "      <th></th>\n",
       "      <th>rank</th>\n",
       "      <th>net_worth</th>\n",
       "      <th>full_name</th>\n",
       "      <th>age</th>\n",
       "      <th>gender</th>\n",
       "      <th>country_of_citizenship</th>\n",
       "      <th>city_of_residence</th>\n",
       "      <th>business_category</th>\n",
       "      <th>self_made</th>\n",
       "      <th>wealth_status</th>\n",
       "    </tr>\n",
       "  </thead>\n",
       "  <tbody>\n",
       "    <tr>\n",
       "      <th>0</th>\n",
       "      <td>1</td>\n",
       "      <td>211</td>\n",
       "      <td>Bernard Arnault &amp; family</td>\n",
       "      <td>74</td>\n",
       "      <td>1</td>\n",
       "      <td>France</td>\n",
       "      <td>Paris</td>\n",
       "      <td>Fashion &amp; Retail</td>\n",
       "      <td>0</td>\n",
       "      <td>3</td>\n",
       "    </tr>\n",
       "    <tr>\n",
       "      <th>1</th>\n",
       "      <td>2</td>\n",
       "      <td>180</td>\n",
       "      <td>Elon Musk</td>\n",
       "      <td>51</td>\n",
       "      <td>1</td>\n",
       "      <td>United States</td>\n",
       "      <td>Austin</td>\n",
       "      <td>Automotive</td>\n",
       "      <td>1</td>\n",
       "      <td>1</td>\n",
       "    </tr>\n",
       "    <tr>\n",
       "      <th>2</th>\n",
       "      <td>3</td>\n",
       "      <td>114</td>\n",
       "      <td>Jeff Bezos</td>\n",
       "      <td>59</td>\n",
       "      <td>1</td>\n",
       "      <td>United States</td>\n",
       "      <td>Medina</td>\n",
       "      <td>Technology</td>\n",
       "      <td>1</td>\n",
       "      <td>1</td>\n",
       "    </tr>\n",
       "    <tr>\n",
       "      <th>3</th>\n",
       "      <td>4</td>\n",
       "      <td>107</td>\n",
       "      <td>Larry Ellison</td>\n",
       "      <td>78</td>\n",
       "      <td>1</td>\n",
       "      <td>United States</td>\n",
       "      <td>Lanai</td>\n",
       "      <td>Technology</td>\n",
       "      <td>1</td>\n",
       "      <td>3</td>\n",
       "    </tr>\n",
       "    <tr>\n",
       "      <th>4</th>\n",
       "      <td>5</td>\n",
       "      <td>106</td>\n",
       "      <td>Warren Buffett</td>\n",
       "      <td>92</td>\n",
       "      <td>1</td>\n",
       "      <td>United States</td>\n",
       "      <td>Omaha</td>\n",
       "      <td>Finance &amp; Investments</td>\n",
       "      <td>1</td>\n",
       "      <td>1</td>\n",
       "    </tr>\n",
       "    <tr>\n",
       "      <th>...</th>\n",
       "      <td>...</td>\n",
       "      <td>...</td>\n",
       "      <td>...</td>\n",
       "      <td>...</td>\n",
       "      <td>...</td>\n",
       "      <td>...</td>\n",
       "      <td>...</td>\n",
       "      <td>...</td>\n",
       "      <td>...</td>\n",
       "      <td>...</td>\n",
       "    </tr>\n",
       "    <tr>\n",
       "      <th>2333</th>\n",
       "      <td>2540</td>\n",
       "      <td>1</td>\n",
       "      <td>Yu Rong</td>\n",
       "      <td>51</td>\n",
       "      <td>1</td>\n",
       "      <td>China</td>\n",
       "      <td>Shanghai</td>\n",
       "      <td>Healthcare</td>\n",
       "      <td>1</td>\n",
       "      <td>1</td>\n",
       "    </tr>\n",
       "    <tr>\n",
       "      <th>2334</th>\n",
       "      <td>2540</td>\n",
       "      <td>1</td>\n",
       "      <td>Richard Yuengling, Jr.</td>\n",
       "      <td>80</td>\n",
       "      <td>1</td>\n",
       "      <td>United States</td>\n",
       "      <td>Pottsville</td>\n",
       "      <td>Food &amp; Beverage</td>\n",
       "      <td>0</td>\n",
       "      <td>2</td>\n",
       "    </tr>\n",
       "    <tr>\n",
       "      <th>2335</th>\n",
       "      <td>2540</td>\n",
       "      <td>1</td>\n",
       "      <td>Zhang Gongyun</td>\n",
       "      <td>60</td>\n",
       "      <td>1</td>\n",
       "      <td>China</td>\n",
       "      <td>Gaomi</td>\n",
       "      <td>Manufacturing</td>\n",
       "      <td>1</td>\n",
       "      <td>0</td>\n",
       "    </tr>\n",
       "    <tr>\n",
       "      <th>2336</th>\n",
       "      <td>2540</td>\n",
       "      <td>1</td>\n",
       "      <td>Zhang Guiping &amp; family</td>\n",
       "      <td>71</td>\n",
       "      <td>1</td>\n",
       "      <td>China</td>\n",
       "      <td>Nanjing</td>\n",
       "      <td>Real Estate</td>\n",
       "      <td>1</td>\n",
       "      <td>1</td>\n",
       "    </tr>\n",
       "    <tr>\n",
       "      <th>2337</th>\n",
       "      <td>2540</td>\n",
       "      <td>1</td>\n",
       "      <td>Inigo Zobel</td>\n",
       "      <td>66</td>\n",
       "      <td>1</td>\n",
       "      <td>Philippines</td>\n",
       "      <td>Makati</td>\n",
       "      <td>Diversified</td>\n",
       "      <td>0</td>\n",
       "      <td>0</td>\n",
       "    </tr>\n",
       "  </tbody>\n",
       "</table>\n",
       "<p>2338 rows × 10 columns</p>\n",
       "</div>"
      ],
      "text/plain": [
       "      rank  net_worth                 full_name  age  gender  \\\n",
       "0        1        211  Bernard Arnault & family   74       1   \n",
       "1        2        180                 Elon Musk   51       1   \n",
       "2        3        114                Jeff Bezos   59       1   \n",
       "3        4        107             Larry Ellison   78       1   \n",
       "4        5        106            Warren Buffett   92       1   \n",
       "...    ...        ...                       ...  ...     ...   \n",
       "2333  2540          1                   Yu Rong   51       1   \n",
       "2334  2540          1    Richard Yuengling, Jr.   80       1   \n",
       "2335  2540          1             Zhang Gongyun   60       1   \n",
       "2336  2540          1    Zhang Guiping & family   71       1   \n",
       "2337  2540          1               Inigo Zobel   66       1   \n",
       "\n",
       "     country_of_citizenship city_of_residence      business_category  \\\n",
       "0                    France             Paris       Fashion & Retail   \n",
       "1             United States            Austin             Automotive   \n",
       "2             United States            Medina             Technology   \n",
       "3             United States             Lanai             Technology   \n",
       "4             United States             Omaha  Finance & Investments   \n",
       "...                     ...               ...                    ...   \n",
       "2333                  China          Shanghai             Healthcare   \n",
       "2334          United States        Pottsville        Food & Beverage   \n",
       "2335                  China             Gaomi          Manufacturing   \n",
       "2336                  China           Nanjing            Real Estate   \n",
       "2337            Philippines            Makati            Diversified   \n",
       "\n",
       "      self_made  wealth_status  \n",
       "0             0              3  \n",
       "1             1              1  \n",
       "2             1              1  \n",
       "3             1              3  \n",
       "4             1              1  \n",
       "...         ...            ...  \n",
       "2333          1              1  \n",
       "2334          0              2  \n",
       "2335          1              0  \n",
       "2336          1              1  \n",
       "2337          0              0  \n",
       "\n",
       "[2338 rows x 10 columns]"
      ]
     },
     "execution_count": 154,
     "metadata": {},
     "output_type": "execute_result"
    }
   ],
   "source": [
    "df"
   ]
  },
  {
   "cell_type": "markdown",
   "metadata": {},
   "source": [
    "## I will leave full_name as it is"
   ]
  },
  {
   "cell_type": "markdown",
   "metadata": {},
   "source": [
    "## country_of_citizenship"
   ]
  },
  {
   "cell_type": "code",
   "execution_count": 155,
   "metadata": {},
   "outputs": [
    {
     "data": {
      "text/plain": [
       "18"
      ]
     },
     "execution_count": 155,
     "metadata": {},
     "output_type": "execute_result"
    }
   ],
   "source": [
    "df['country_of_citizenship'].value_counts()[df['country_of_citizenship'].value_counts() < 2].count()"
   ]
  },
  {
   "cell_type": "code",
   "execution_count": 156,
   "metadata": {},
   "outputs": [
    {
     "data": {
      "text/plain": [
       "47"
      ]
     },
     "execution_count": 156,
     "metadata": {},
     "output_type": "execute_result"
    }
   ],
   "source": [
    "df['country_of_citizenship'].value_counts()[df['country_of_citizenship'].value_counts() < 10].count()"
   ]
  },
  {
   "cell_type": "code",
   "execution_count": 157,
   "metadata": {},
   "outputs": [
    {
     "name": "stdout",
     "output_type": "stream",
     "text": [
      "68\n",
      "# I will make not this as other category\n",
      "75\n"
     ]
    }
   ],
   "source": [
    "print(df['country_of_citizenship'].value_counts()[df['country_of_citizenship'].value_counts() < 50].count())\n",
    "print('# I will make not this as other category')\n",
    "print(df['country_of_citizenship'].nunique())"
   ]
  },
  {
   "cell_type": "code",
   "execution_count": 158,
   "metadata": {},
   "outputs": [
    {
     "name": "stdout",
     "output_type": "stream",
     "text": [
      "47\n",
      "# I will make this as other category\n"
     ]
    }
   ],
   "source": [
    "print(df['country_of_citizenship'].value_counts()[df['country_of_citizenship'].value_counts() < 10].count())\n",
    "print('# I will make this as other category')"
   ]
  },
  {
   "cell_type": "code",
   "execution_count": 159,
   "metadata": {},
   "outputs": [],
   "source": [
    "states_to_make_other_attrs=df['country_of_citizenship'].value_counts()[df['country_of_citizenship'].value_counts() < 10].index.tolist()"
   ]
  },
  {
   "cell_type": "code",
   "execution_count": 160,
   "metadata": {},
   "outputs": [],
   "source": [
    "# states_to_make_others_attrs\n",
    "def make_others_attrs(txt):\n",
    "    if txt not in states_to_make_other_attrs:\n",
    "        return txt\n",
    "    else:\n",
    "        return 'Others'"
   ]
  },
  {
   "cell_type": "code",
   "execution_count": 161,
   "metadata": {},
   "outputs": [],
   "source": [
    "df['country_of_citizenship']=df['country_of_citizenship'].apply(func=make_others_attrs)"
   ]
  },
  {
   "cell_type": "code",
   "execution_count": 162,
   "metadata": {},
   "outputs": [],
   "source": [
    "citizenship_country = df['country_of_citizenship'].value_counts().index.tolist()"
   ]
  },
  {
   "cell_type": "code",
   "execution_count": 163,
   "metadata": {},
   "outputs": [
    {
     "data": {
      "text/plain": [
       "['United States',\n",
       " 'China',\n",
       " 'Others',\n",
       " 'India',\n",
       " 'Germany',\n",
       " 'Russia',\n",
       " 'Hong Kong',\n",
       " 'Canada',\n",
       " 'Italy',\n",
       " 'Brazil',\n",
       " 'United Kingdom',\n",
       " 'Taiwan',\n",
       " 'Australia',\n",
       " 'Switzerland',\n",
       " 'Sweden',\n",
       " 'France',\n",
       " 'Japan',\n",
       " 'Israel',\n",
       " 'South Korea',\n",
       " 'Turkey',\n",
       " 'Thailand',\n",
       " 'Spain',\n",
       " 'Singapore',\n",
       " 'Indonesia',\n",
       " 'Philippines',\n",
       " 'Malaysia',\n",
       " 'Norway',\n",
       " 'Mexico',\n",
       " 'Netherlands']"
      ]
     },
     "execution_count": 163,
     "metadata": {},
     "output_type": "execute_result"
    }
   ],
   "source": [
    "citizenship_country"
   ]
  },
  {
   "cell_type": "code",
   "execution_count": 164,
   "metadata": {},
   "outputs": [],
   "source": [
    "citizenship_country=citizenship_country[::-1] # reversing the values for ordinal encoding."
   ]
  },
  {
   "cell_type": "code",
   "execution_count": 165,
   "metadata": {},
   "outputs": [],
   "source": [
    "citizenship_country.remove('Others')"
   ]
  },
  {
   "cell_type": "code",
   "execution_count": 166,
   "metadata": {},
   "outputs": [
    {
     "data": {
      "text/plain": [
       "['Netherlands',\n",
       " 'Mexico',\n",
       " 'Norway',\n",
       " 'Malaysia',\n",
       " 'Philippines',\n",
       " 'Indonesia',\n",
       " 'Singapore',\n",
       " 'Spain',\n",
       " 'Thailand',\n",
       " 'Turkey',\n",
       " 'South Korea',\n",
       " 'Israel',\n",
       " 'Japan',\n",
       " 'France',\n",
       " 'Sweden',\n",
       " 'Switzerland',\n",
       " 'Australia',\n",
       " 'Taiwan',\n",
       " 'United Kingdom',\n",
       " 'Brazil',\n",
       " 'Italy',\n",
       " 'Canada',\n",
       " 'Hong Kong',\n",
       " 'Russia',\n",
       " 'Germany',\n",
       " 'India',\n",
       " 'China',\n",
       " 'United States']"
      ]
     },
     "execution_count": 166,
     "metadata": {},
     "output_type": "execute_result"
    }
   ],
   "source": [
    "citizenship_country"
   ]
  },
  {
   "cell_type": "code",
   "execution_count": 167,
   "metadata": {},
   "outputs": [],
   "source": [
    "citizenship_country.insert(0,'Others')"
   ]
  },
  {
   "cell_type": "code",
   "execution_count": 168,
   "metadata": {},
   "outputs": [
    {
     "data": {
      "text/plain": [
       "['Others',\n",
       " 'Netherlands',\n",
       " 'Mexico',\n",
       " 'Norway',\n",
       " 'Malaysia',\n",
       " 'Philippines',\n",
       " 'Indonesia',\n",
       " 'Singapore',\n",
       " 'Spain',\n",
       " 'Thailand',\n",
       " 'Turkey',\n",
       " 'South Korea',\n",
       " 'Israel',\n",
       " 'Japan',\n",
       " 'France',\n",
       " 'Sweden',\n",
       " 'Switzerland',\n",
       " 'Australia',\n",
       " 'Taiwan',\n",
       " 'United Kingdom',\n",
       " 'Brazil',\n",
       " 'Italy',\n",
       " 'Canada',\n",
       " 'Hong Kong',\n",
       " 'Russia',\n",
       " 'Germany',\n",
       " 'India',\n",
       " 'China',\n",
       " 'United States']"
      ]
     },
     "execution_count": 168,
     "metadata": {},
     "output_type": "execute_result"
    }
   ],
   "source": [
    "citizenship_country # now its perfect."
   ]
  },
  {
   "cell_type": "code",
   "execution_count": 169,
   "metadata": {},
   "outputs": [
    {
     "data": {
      "text/html": [
       "<style>#sk-container-id-9 {color: black;}#sk-container-id-9 pre{padding: 0;}#sk-container-id-9 div.sk-toggleable {background-color: white;}#sk-container-id-9 label.sk-toggleable__label {cursor: pointer;display: block;width: 100%;margin-bottom: 0;padding: 0.3em;box-sizing: border-box;text-align: center;}#sk-container-id-9 label.sk-toggleable__label-arrow:before {content: \"▸\";float: left;margin-right: 0.25em;color: #696969;}#sk-container-id-9 label.sk-toggleable__label-arrow:hover:before {color: black;}#sk-container-id-9 div.sk-estimator:hover label.sk-toggleable__label-arrow:before {color: black;}#sk-container-id-9 div.sk-toggleable__content {max-height: 0;max-width: 0;overflow: hidden;text-align: left;background-color: #f0f8ff;}#sk-container-id-9 div.sk-toggleable__content pre {margin: 0.2em;color: black;border-radius: 0.25em;background-color: #f0f8ff;}#sk-container-id-9 input.sk-toggleable__control:checked~div.sk-toggleable__content {max-height: 200px;max-width: 100%;overflow: auto;}#sk-container-id-9 input.sk-toggleable__control:checked~label.sk-toggleable__label-arrow:before {content: \"▾\";}#sk-container-id-9 div.sk-estimator input.sk-toggleable__control:checked~label.sk-toggleable__label {background-color: #d4ebff;}#sk-container-id-9 div.sk-label input.sk-toggleable__control:checked~label.sk-toggleable__label {background-color: #d4ebff;}#sk-container-id-9 input.sk-hidden--visually {border: 0;clip: rect(1px 1px 1px 1px);clip: rect(1px, 1px, 1px, 1px);height: 1px;margin: -1px;overflow: hidden;padding: 0;position: absolute;width: 1px;}#sk-container-id-9 div.sk-estimator {font-family: monospace;background-color: #f0f8ff;border: 1px dotted black;border-radius: 0.25em;box-sizing: border-box;margin-bottom: 0.5em;}#sk-container-id-9 div.sk-estimator:hover {background-color: #d4ebff;}#sk-container-id-9 div.sk-parallel-item::after {content: \"\";width: 100%;border-bottom: 1px solid gray;flex-grow: 1;}#sk-container-id-9 div.sk-label:hover label.sk-toggleable__label {background-color: #d4ebff;}#sk-container-id-9 div.sk-serial::before {content: \"\";position: absolute;border-left: 1px solid gray;box-sizing: border-box;top: 0;bottom: 0;left: 50%;z-index: 0;}#sk-container-id-9 div.sk-serial {display: flex;flex-direction: column;align-items: center;background-color: white;padding-right: 0.2em;padding-left: 0.2em;position: relative;}#sk-container-id-9 div.sk-item {position: relative;z-index: 1;}#sk-container-id-9 div.sk-parallel {display: flex;align-items: stretch;justify-content: center;background-color: white;position: relative;}#sk-container-id-9 div.sk-item::before, #sk-container-id-9 div.sk-parallel-item::before {content: \"\";position: absolute;border-left: 1px solid gray;box-sizing: border-box;top: 0;bottom: 0;left: 50%;z-index: -1;}#sk-container-id-9 div.sk-parallel-item {display: flex;flex-direction: column;z-index: 1;position: relative;background-color: white;}#sk-container-id-9 div.sk-parallel-item:first-child::after {align-self: flex-end;width: 50%;}#sk-container-id-9 div.sk-parallel-item:last-child::after {align-self: flex-start;width: 50%;}#sk-container-id-9 div.sk-parallel-item:only-child::after {width: 0;}#sk-container-id-9 div.sk-dashed-wrapped {border: 1px dashed gray;margin: 0 0.4em 0.5em 0.4em;box-sizing: border-box;padding-bottom: 0.4em;background-color: white;}#sk-container-id-9 div.sk-label label {font-family: monospace;font-weight: bold;display: inline-block;line-height: 1.2em;}#sk-container-id-9 div.sk-label-container {text-align: center;}#sk-container-id-9 div.sk-container {/* jupyter's `normalize.less` sets `[hidden] { display: none; }` but bootstrap.min.css set `[hidden] { display: none !important; }` so we also need the `!important` here to be able to override the default hidden behavior on the sphinx rendered scikit-learn.org. See: https://github.com/scikit-learn/scikit-learn/issues/21755 */display: inline-block !important;position: relative;}#sk-container-id-9 div.sk-text-repr-fallback {display: none;}</style><div id=\"sk-container-id-9\" class=\"sk-top-container\"><div class=\"sk-text-repr-fallback\"><pre>OrdinalEncoder(categories=[[&#x27;Others&#x27;, &#x27;Netherlands&#x27;, &#x27;Mexico&#x27;, &#x27;Norway&#x27;,\n",
       "                            &#x27;Malaysia&#x27;, &#x27;Philippines&#x27;, &#x27;Indonesia&#x27;, &#x27;Singapore&#x27;,\n",
       "                            &#x27;Spain&#x27;, &#x27;Thailand&#x27;, &#x27;Turkey&#x27;, &#x27;South Korea&#x27;,\n",
       "                            &#x27;Israel&#x27;, &#x27;Japan&#x27;, &#x27;France&#x27;, &#x27;Sweden&#x27;,\n",
       "                            &#x27;Switzerland&#x27;, &#x27;Australia&#x27;, &#x27;Taiwan&#x27;,\n",
       "                            &#x27;United Kingdom&#x27;, &#x27;Brazil&#x27;, &#x27;Italy&#x27;, &#x27;Canada&#x27;,\n",
       "                            &#x27;Hong Kong&#x27;, &#x27;Russia&#x27;, &#x27;Germany&#x27;, &#x27;India&#x27;, &#x27;China&#x27;,\n",
       "                            &#x27;United States&#x27;]])</pre><b>In a Jupyter environment, please rerun this cell to show the HTML representation or trust the notebook. <br />On GitHub, the HTML representation is unable to render, please try loading this page with nbviewer.org.</b></div><div class=\"sk-container\" hidden><div class=\"sk-item\"><div class=\"sk-estimator sk-toggleable\"><input class=\"sk-toggleable__control sk-hidden--visually\" id=\"sk-estimator-id-9\" type=\"checkbox\" checked><label for=\"sk-estimator-id-9\" class=\"sk-toggleable__label sk-toggleable__label-arrow\">OrdinalEncoder</label><div class=\"sk-toggleable__content\"><pre>OrdinalEncoder(categories=[[&#x27;Others&#x27;, &#x27;Netherlands&#x27;, &#x27;Mexico&#x27;, &#x27;Norway&#x27;,\n",
       "                            &#x27;Malaysia&#x27;, &#x27;Philippines&#x27;, &#x27;Indonesia&#x27;, &#x27;Singapore&#x27;,\n",
       "                            &#x27;Spain&#x27;, &#x27;Thailand&#x27;, &#x27;Turkey&#x27;, &#x27;South Korea&#x27;,\n",
       "                            &#x27;Israel&#x27;, &#x27;Japan&#x27;, &#x27;France&#x27;, &#x27;Sweden&#x27;,\n",
       "                            &#x27;Switzerland&#x27;, &#x27;Australia&#x27;, &#x27;Taiwan&#x27;,\n",
       "                            &#x27;United Kingdom&#x27;, &#x27;Brazil&#x27;, &#x27;Italy&#x27;, &#x27;Canada&#x27;,\n",
       "                            &#x27;Hong Kong&#x27;, &#x27;Russia&#x27;, &#x27;Germany&#x27;, &#x27;India&#x27;, &#x27;China&#x27;,\n",
       "                            &#x27;United States&#x27;]])</pre></div></div></div></div></div>"
      ],
      "text/plain": [
       "OrdinalEncoder(categories=[['Others', 'Netherlands', 'Mexico', 'Norway',\n",
       "                            'Malaysia', 'Philippines', 'Indonesia', 'Singapore',\n",
       "                            'Spain', 'Thailand', 'Turkey', 'South Korea',\n",
       "                            'Israel', 'Japan', 'France', 'Sweden',\n",
       "                            'Switzerland', 'Australia', 'Taiwan',\n",
       "                            'United Kingdom', 'Brazil', 'Italy', 'Canada',\n",
       "                            'Hong Kong', 'Russia', 'Germany', 'India', 'China',\n",
       "                            'United States']])"
      ]
     },
     "execution_count": 169,
     "metadata": {},
     "output_type": "execute_result"
    }
   ],
   "source": [
    "ordinal_encoder = OrdinalEncoder(categories=[citizenship_country])\n",
    "ordinal_encoder"
   ]
  },
  {
   "cell_type": "code",
   "execution_count": 170,
   "metadata": {},
   "outputs": [],
   "source": [
    "df['country_of_citizenship'] = ordinal_encoder.fit_transform(df[['country_of_citizenship']])"
   ]
  },
  {
   "cell_type": "code",
   "execution_count": 171,
   "metadata": {},
   "outputs": [],
   "source": [
    "df['country_of_citizenship'] = df['country_of_citizenship'].astype(int)"
   ]
  },
  {
   "cell_type": "code",
   "execution_count": 172,
   "metadata": {},
   "outputs": [
    {
     "data": {
      "text/html": [
       "<div>\n",
       "<style scoped>\n",
       "    .dataframe tbody tr th:only-of-type {\n",
       "        vertical-align: middle;\n",
       "    }\n",
       "\n",
       "    .dataframe tbody tr th {\n",
       "        vertical-align: top;\n",
       "    }\n",
       "\n",
       "    .dataframe thead th {\n",
       "        text-align: right;\n",
       "    }\n",
       "</style>\n",
       "<table border=\"1\" class=\"dataframe\">\n",
       "  <thead>\n",
       "    <tr style=\"text-align: right;\">\n",
       "      <th></th>\n",
       "      <th>rank</th>\n",
       "      <th>net_worth</th>\n",
       "      <th>full_name</th>\n",
       "      <th>age</th>\n",
       "      <th>gender</th>\n",
       "      <th>country_of_citizenship</th>\n",
       "      <th>city_of_residence</th>\n",
       "      <th>business_category</th>\n",
       "      <th>self_made</th>\n",
       "      <th>wealth_status</th>\n",
       "    </tr>\n",
       "  </thead>\n",
       "  <tbody>\n",
       "    <tr>\n",
       "      <th>0</th>\n",
       "      <td>1</td>\n",
       "      <td>211</td>\n",
       "      <td>Bernard Arnault &amp; family</td>\n",
       "      <td>74</td>\n",
       "      <td>1</td>\n",
       "      <td>14</td>\n",
       "      <td>Paris</td>\n",
       "      <td>Fashion &amp; Retail</td>\n",
       "      <td>0</td>\n",
       "      <td>3</td>\n",
       "    </tr>\n",
       "    <tr>\n",
       "      <th>1</th>\n",
       "      <td>2</td>\n",
       "      <td>180</td>\n",
       "      <td>Elon Musk</td>\n",
       "      <td>51</td>\n",
       "      <td>1</td>\n",
       "      <td>28</td>\n",
       "      <td>Austin</td>\n",
       "      <td>Automotive</td>\n",
       "      <td>1</td>\n",
       "      <td>1</td>\n",
       "    </tr>\n",
       "    <tr>\n",
       "      <th>2</th>\n",
       "      <td>3</td>\n",
       "      <td>114</td>\n",
       "      <td>Jeff Bezos</td>\n",
       "      <td>59</td>\n",
       "      <td>1</td>\n",
       "      <td>28</td>\n",
       "      <td>Medina</td>\n",
       "      <td>Technology</td>\n",
       "      <td>1</td>\n",
       "      <td>1</td>\n",
       "    </tr>\n",
       "    <tr>\n",
       "      <th>3</th>\n",
       "      <td>4</td>\n",
       "      <td>107</td>\n",
       "      <td>Larry Ellison</td>\n",
       "      <td>78</td>\n",
       "      <td>1</td>\n",
       "      <td>28</td>\n",
       "      <td>Lanai</td>\n",
       "      <td>Technology</td>\n",
       "      <td>1</td>\n",
       "      <td>3</td>\n",
       "    </tr>\n",
       "    <tr>\n",
       "      <th>4</th>\n",
       "      <td>5</td>\n",
       "      <td>106</td>\n",
       "      <td>Warren Buffett</td>\n",
       "      <td>92</td>\n",
       "      <td>1</td>\n",
       "      <td>28</td>\n",
       "      <td>Omaha</td>\n",
       "      <td>Finance &amp; Investments</td>\n",
       "      <td>1</td>\n",
       "      <td>1</td>\n",
       "    </tr>\n",
       "    <tr>\n",
       "      <th>...</th>\n",
       "      <td>...</td>\n",
       "      <td>...</td>\n",
       "      <td>...</td>\n",
       "      <td>...</td>\n",
       "      <td>...</td>\n",
       "      <td>...</td>\n",
       "      <td>...</td>\n",
       "      <td>...</td>\n",
       "      <td>...</td>\n",
       "      <td>...</td>\n",
       "    </tr>\n",
       "    <tr>\n",
       "      <th>2333</th>\n",
       "      <td>2540</td>\n",
       "      <td>1</td>\n",
       "      <td>Yu Rong</td>\n",
       "      <td>51</td>\n",
       "      <td>1</td>\n",
       "      <td>27</td>\n",
       "      <td>Shanghai</td>\n",
       "      <td>Healthcare</td>\n",
       "      <td>1</td>\n",
       "      <td>1</td>\n",
       "    </tr>\n",
       "    <tr>\n",
       "      <th>2334</th>\n",
       "      <td>2540</td>\n",
       "      <td>1</td>\n",
       "      <td>Richard Yuengling, Jr.</td>\n",
       "      <td>80</td>\n",
       "      <td>1</td>\n",
       "      <td>28</td>\n",
       "      <td>Pottsville</td>\n",
       "      <td>Food &amp; Beverage</td>\n",
       "      <td>0</td>\n",
       "      <td>2</td>\n",
       "    </tr>\n",
       "    <tr>\n",
       "      <th>2335</th>\n",
       "      <td>2540</td>\n",
       "      <td>1</td>\n",
       "      <td>Zhang Gongyun</td>\n",
       "      <td>60</td>\n",
       "      <td>1</td>\n",
       "      <td>27</td>\n",
       "      <td>Gaomi</td>\n",
       "      <td>Manufacturing</td>\n",
       "      <td>1</td>\n",
       "      <td>0</td>\n",
       "    </tr>\n",
       "    <tr>\n",
       "      <th>2336</th>\n",
       "      <td>2540</td>\n",
       "      <td>1</td>\n",
       "      <td>Zhang Guiping &amp; family</td>\n",
       "      <td>71</td>\n",
       "      <td>1</td>\n",
       "      <td>27</td>\n",
       "      <td>Nanjing</td>\n",
       "      <td>Real Estate</td>\n",
       "      <td>1</td>\n",
       "      <td>1</td>\n",
       "    </tr>\n",
       "    <tr>\n",
       "      <th>2337</th>\n",
       "      <td>2540</td>\n",
       "      <td>1</td>\n",
       "      <td>Inigo Zobel</td>\n",
       "      <td>66</td>\n",
       "      <td>1</td>\n",
       "      <td>5</td>\n",
       "      <td>Makati</td>\n",
       "      <td>Diversified</td>\n",
       "      <td>0</td>\n",
       "      <td>0</td>\n",
       "    </tr>\n",
       "  </tbody>\n",
       "</table>\n",
       "<p>2338 rows × 10 columns</p>\n",
       "</div>"
      ],
      "text/plain": [
       "      rank  net_worth                 full_name  age  gender  \\\n",
       "0        1        211  Bernard Arnault & family   74       1   \n",
       "1        2        180                 Elon Musk   51       1   \n",
       "2        3        114                Jeff Bezos   59       1   \n",
       "3        4        107             Larry Ellison   78       1   \n",
       "4        5        106            Warren Buffett   92       1   \n",
       "...    ...        ...                       ...  ...     ...   \n",
       "2333  2540          1                   Yu Rong   51       1   \n",
       "2334  2540          1    Richard Yuengling, Jr.   80       1   \n",
       "2335  2540          1             Zhang Gongyun   60       1   \n",
       "2336  2540          1    Zhang Guiping & family   71       1   \n",
       "2337  2540          1               Inigo Zobel   66       1   \n",
       "\n",
       "      country_of_citizenship city_of_residence      business_category  \\\n",
       "0                         14             Paris       Fashion & Retail   \n",
       "1                         28            Austin             Automotive   \n",
       "2                         28            Medina             Technology   \n",
       "3                         28             Lanai             Technology   \n",
       "4                         28             Omaha  Finance & Investments   \n",
       "...                      ...               ...                    ...   \n",
       "2333                      27          Shanghai             Healthcare   \n",
       "2334                      28        Pottsville        Food & Beverage   \n",
       "2335                      27             Gaomi          Manufacturing   \n",
       "2336                      27           Nanjing            Real Estate   \n",
       "2337                       5            Makati            Diversified   \n",
       "\n",
       "      self_made  wealth_status  \n",
       "0             0              3  \n",
       "1             1              1  \n",
       "2             1              1  \n",
       "3             1              3  \n",
       "4             1              1  \n",
       "...         ...            ...  \n",
       "2333          1              1  \n",
       "2334          0              2  \n",
       "2335          1              0  \n",
       "2336          1              1  \n",
       "2337          0              0  \n",
       "\n",
       "[2338 rows x 10 columns]"
      ]
     },
     "execution_count": 172,
     "metadata": {},
     "output_type": "execute_result"
    }
   ],
   "source": [
    "df"
   ]
  },
  {
   "cell_type": "code",
   "execution_count": 173,
   "metadata": {},
   "outputs": [
    {
     "data": {
      "text/plain": [
       "country_of_citizenship\n",
       "28    669\n",
       "27    457\n",
       "0     155\n",
       "26    141\n",
       "25     97\n",
       "24     94\n",
       "23     62\n",
       "22     59\n",
       "21     46\n",
       "20     46\n",
       "19     44\n",
       "18     43\n",
       "17     41\n",
       "16     39\n",
       "15     39\n",
       "14     37\n",
       "13     33\n",
       "12     29\n",
       "11     26\n",
       "10     26\n",
       "9      25\n",
       "8      25\n",
       "7      24\n",
       "6      22\n",
       "5      14\n",
       "4      12\n",
       "3      12\n",
       "2      11\n",
       "1      10\n",
       "Name: count, dtype: int64"
      ]
     },
     "execution_count": 173,
     "metadata": {},
     "output_type": "execute_result"
    }
   ],
   "source": [
    "df['country_of_citizenship'].value_counts() # Here for others I have assigned 0"
   ]
  },
  {
   "cell_type": "markdown",
   "metadata": {},
   "source": [
    "## city_of_residence"
   ]
  },
  {
   "cell_type": "markdown",
   "metadata": {},
   "source": [
    "### I don't need the city name that's why I am just droping"
   ]
  },
  {
   "cell_type": "code",
   "execution_count": 174,
   "metadata": {},
   "outputs": [],
   "source": [
    "df = df.drop(columns='city_of_residence')"
   ]
  },
  {
   "cell_type": "markdown",
   "metadata": {},
   "source": [
    "## business category"
   ]
  },
  {
   "cell_type": "code",
   "execution_count": 175,
   "metadata": {},
   "outputs": [
    {
     "data": {
      "text/plain": [
       "['Finance & Investments',\n",
       " 'Technology',\n",
       " 'Manufacturing',\n",
       " 'Fashion & Retail',\n",
       " 'Healthcare',\n",
       " 'Food & Beverage',\n",
       " 'Diversified',\n",
       " 'Real Estate',\n",
       " 'Energy',\n",
       " 'Media & Entertainment',\n",
       " 'Automotive',\n",
       " 'Metals & Mining',\n",
       " 'Service',\n",
       " 'Construction & Engineering',\n",
       " 'Logistics',\n",
       " 'Sports',\n",
       " 'Telecom',\n",
       " 'Gambling & Casinos']"
      ]
     },
     "execution_count": 175,
     "metadata": {},
     "output_type": "execute_result"
    }
   ],
   "source": [
    "df['business_category'].value_counts().index.tolist()"
   ]
  },
  {
   "cell_type": "code",
   "execution_count": 176,
   "metadata": {},
   "outputs": [
    {
     "data": {
      "text/html": [
       "<style>#sk-container-id-10 {color: black;}#sk-container-id-10 pre{padding: 0;}#sk-container-id-10 div.sk-toggleable {background-color: white;}#sk-container-id-10 label.sk-toggleable__label {cursor: pointer;display: block;width: 100%;margin-bottom: 0;padding: 0.3em;box-sizing: border-box;text-align: center;}#sk-container-id-10 label.sk-toggleable__label-arrow:before {content: \"▸\";float: left;margin-right: 0.25em;color: #696969;}#sk-container-id-10 label.sk-toggleable__label-arrow:hover:before {color: black;}#sk-container-id-10 div.sk-estimator:hover label.sk-toggleable__label-arrow:before {color: black;}#sk-container-id-10 div.sk-toggleable__content {max-height: 0;max-width: 0;overflow: hidden;text-align: left;background-color: #f0f8ff;}#sk-container-id-10 div.sk-toggleable__content pre {margin: 0.2em;color: black;border-radius: 0.25em;background-color: #f0f8ff;}#sk-container-id-10 input.sk-toggleable__control:checked~div.sk-toggleable__content {max-height: 200px;max-width: 100%;overflow: auto;}#sk-container-id-10 input.sk-toggleable__control:checked~label.sk-toggleable__label-arrow:before {content: \"▾\";}#sk-container-id-10 div.sk-estimator input.sk-toggleable__control:checked~label.sk-toggleable__label {background-color: #d4ebff;}#sk-container-id-10 div.sk-label input.sk-toggleable__control:checked~label.sk-toggleable__label {background-color: #d4ebff;}#sk-container-id-10 input.sk-hidden--visually {border: 0;clip: rect(1px 1px 1px 1px);clip: rect(1px, 1px, 1px, 1px);height: 1px;margin: -1px;overflow: hidden;padding: 0;position: absolute;width: 1px;}#sk-container-id-10 div.sk-estimator {font-family: monospace;background-color: #f0f8ff;border: 1px dotted black;border-radius: 0.25em;box-sizing: border-box;margin-bottom: 0.5em;}#sk-container-id-10 div.sk-estimator:hover {background-color: #d4ebff;}#sk-container-id-10 div.sk-parallel-item::after {content: \"\";width: 100%;border-bottom: 1px solid gray;flex-grow: 1;}#sk-container-id-10 div.sk-label:hover label.sk-toggleable__label {background-color: #d4ebff;}#sk-container-id-10 div.sk-serial::before {content: \"\";position: absolute;border-left: 1px solid gray;box-sizing: border-box;top: 0;bottom: 0;left: 50%;z-index: 0;}#sk-container-id-10 div.sk-serial {display: flex;flex-direction: column;align-items: center;background-color: white;padding-right: 0.2em;padding-left: 0.2em;position: relative;}#sk-container-id-10 div.sk-item {position: relative;z-index: 1;}#sk-container-id-10 div.sk-parallel {display: flex;align-items: stretch;justify-content: center;background-color: white;position: relative;}#sk-container-id-10 div.sk-item::before, #sk-container-id-10 div.sk-parallel-item::before {content: \"\";position: absolute;border-left: 1px solid gray;box-sizing: border-box;top: 0;bottom: 0;left: 50%;z-index: -1;}#sk-container-id-10 div.sk-parallel-item {display: flex;flex-direction: column;z-index: 1;position: relative;background-color: white;}#sk-container-id-10 div.sk-parallel-item:first-child::after {align-self: flex-end;width: 50%;}#sk-container-id-10 div.sk-parallel-item:last-child::after {align-self: flex-start;width: 50%;}#sk-container-id-10 div.sk-parallel-item:only-child::after {width: 0;}#sk-container-id-10 div.sk-dashed-wrapped {border: 1px dashed gray;margin: 0 0.4em 0.5em 0.4em;box-sizing: border-box;padding-bottom: 0.4em;background-color: white;}#sk-container-id-10 div.sk-label label {font-family: monospace;font-weight: bold;display: inline-block;line-height: 1.2em;}#sk-container-id-10 div.sk-label-container {text-align: center;}#sk-container-id-10 div.sk-container {/* jupyter's `normalize.less` sets `[hidden] { display: none; }` but bootstrap.min.css set `[hidden] { display: none !important; }` so we also need the `!important` here to be able to override the default hidden behavior on the sphinx rendered scikit-learn.org. See: https://github.com/scikit-learn/scikit-learn/issues/21755 */display: inline-block !important;position: relative;}#sk-container-id-10 div.sk-text-repr-fallback {display: none;}</style><div id=\"sk-container-id-10\" class=\"sk-top-container\"><div class=\"sk-text-repr-fallback\"><pre>OrdinalEncoder(categories=[[&#x27;Finance &amp; Investments&#x27;, &#x27;Technology&#x27;,\n",
       "                            &#x27;Manufacturing&#x27;, &#x27;Fashion &amp; Retail&#x27;, &#x27;Healthcare&#x27;,\n",
       "                            &#x27;Food &amp; Beverage&#x27;, &#x27;Diversified&#x27;, &#x27;Real Estate&#x27;,\n",
       "                            &#x27;Energy&#x27;, &#x27;Media &amp; Entertainment&#x27;, &#x27;Automotive&#x27;,\n",
       "                            &#x27;Metals &amp; Mining&#x27;, &#x27;Service&#x27;,\n",
       "                            &#x27;Construction &amp; Engineering&#x27;, &#x27;Logistics&#x27;, &#x27;Sports&#x27;,\n",
       "                            &#x27;Telecom&#x27;, &#x27;Gambling &amp; Casinos&#x27;]])</pre><b>In a Jupyter environment, please rerun this cell to show the HTML representation or trust the notebook. <br />On GitHub, the HTML representation is unable to render, please try loading this page with nbviewer.org.</b></div><div class=\"sk-container\" hidden><div class=\"sk-item\"><div class=\"sk-estimator sk-toggleable\"><input class=\"sk-toggleable__control sk-hidden--visually\" id=\"sk-estimator-id-10\" type=\"checkbox\" checked><label for=\"sk-estimator-id-10\" class=\"sk-toggleable__label sk-toggleable__label-arrow\">OrdinalEncoder</label><div class=\"sk-toggleable__content\"><pre>OrdinalEncoder(categories=[[&#x27;Finance &amp; Investments&#x27;, &#x27;Technology&#x27;,\n",
       "                            &#x27;Manufacturing&#x27;, &#x27;Fashion &amp; Retail&#x27;, &#x27;Healthcare&#x27;,\n",
       "                            &#x27;Food &amp; Beverage&#x27;, &#x27;Diversified&#x27;, &#x27;Real Estate&#x27;,\n",
       "                            &#x27;Energy&#x27;, &#x27;Media &amp; Entertainment&#x27;, &#x27;Automotive&#x27;,\n",
       "                            &#x27;Metals &amp; Mining&#x27;, &#x27;Service&#x27;,\n",
       "                            &#x27;Construction &amp; Engineering&#x27;, &#x27;Logistics&#x27;, &#x27;Sports&#x27;,\n",
       "                            &#x27;Telecom&#x27;, &#x27;Gambling &amp; Casinos&#x27;]])</pre></div></div></div></div></div>"
      ],
      "text/plain": [
       "OrdinalEncoder(categories=[['Finance & Investments', 'Technology',\n",
       "                            'Manufacturing', 'Fashion & Retail', 'Healthcare',\n",
       "                            'Food & Beverage', 'Diversified', 'Real Estate',\n",
       "                            'Energy', 'Media & Entertainment', 'Automotive',\n",
       "                            'Metals & Mining', 'Service',\n",
       "                            'Construction & Engineering', 'Logistics', 'Sports',\n",
       "                            'Telecom', 'Gambling & Casinos']])"
      ]
     },
     "execution_count": 176,
     "metadata": {},
     "output_type": "execute_result"
    }
   ],
   "source": [
    "ordinal_encoder = OrdinalEncoder(categories=[df['business_category'].value_counts().index.tolist()])\n",
    "ordinal_encoder"
   ]
  },
  {
   "cell_type": "code",
   "execution_count": 177,
   "metadata": {},
   "outputs": [],
   "source": [
    "df['business_category'] = ordinal_encoder.fit_transform(df[['business_category']])"
   ]
  },
  {
   "cell_type": "code",
   "execution_count": 178,
   "metadata": {},
   "outputs": [],
   "source": [
    "df['business_category'] = df['business_category'].astype(int)"
   ]
  },
  {
   "cell_type": "code",
   "execution_count": 179,
   "metadata": {},
   "outputs": [
    {
     "data": {
      "text/html": [
       "<div>\n",
       "<style scoped>\n",
       "    .dataframe tbody tr th:only-of-type {\n",
       "        vertical-align: middle;\n",
       "    }\n",
       "\n",
       "    .dataframe tbody tr th {\n",
       "        vertical-align: top;\n",
       "    }\n",
       "\n",
       "    .dataframe thead th {\n",
       "        text-align: right;\n",
       "    }\n",
       "</style>\n",
       "<table border=\"1\" class=\"dataframe\">\n",
       "  <thead>\n",
       "    <tr style=\"text-align: right;\">\n",
       "      <th></th>\n",
       "      <th>rank</th>\n",
       "      <th>net_worth</th>\n",
       "      <th>full_name</th>\n",
       "      <th>age</th>\n",
       "      <th>gender</th>\n",
       "      <th>country_of_citizenship</th>\n",
       "      <th>business_category</th>\n",
       "      <th>self_made</th>\n",
       "      <th>wealth_status</th>\n",
       "    </tr>\n",
       "  </thead>\n",
       "  <tbody>\n",
       "    <tr>\n",
       "      <th>0</th>\n",
       "      <td>1</td>\n",
       "      <td>211</td>\n",
       "      <td>Bernard Arnault &amp; family</td>\n",
       "      <td>74</td>\n",
       "      <td>1</td>\n",
       "      <td>14</td>\n",
       "      <td>3</td>\n",
       "      <td>0</td>\n",
       "      <td>3</td>\n",
       "    </tr>\n",
       "    <tr>\n",
       "      <th>1</th>\n",
       "      <td>2</td>\n",
       "      <td>180</td>\n",
       "      <td>Elon Musk</td>\n",
       "      <td>51</td>\n",
       "      <td>1</td>\n",
       "      <td>28</td>\n",
       "      <td>10</td>\n",
       "      <td>1</td>\n",
       "      <td>1</td>\n",
       "    </tr>\n",
       "    <tr>\n",
       "      <th>2</th>\n",
       "      <td>3</td>\n",
       "      <td>114</td>\n",
       "      <td>Jeff Bezos</td>\n",
       "      <td>59</td>\n",
       "      <td>1</td>\n",
       "      <td>28</td>\n",
       "      <td>1</td>\n",
       "      <td>1</td>\n",
       "      <td>1</td>\n",
       "    </tr>\n",
       "    <tr>\n",
       "      <th>3</th>\n",
       "      <td>4</td>\n",
       "      <td>107</td>\n",
       "      <td>Larry Ellison</td>\n",
       "      <td>78</td>\n",
       "      <td>1</td>\n",
       "      <td>28</td>\n",
       "      <td>1</td>\n",
       "      <td>1</td>\n",
       "      <td>3</td>\n",
       "    </tr>\n",
       "    <tr>\n",
       "      <th>4</th>\n",
       "      <td>5</td>\n",
       "      <td>106</td>\n",
       "      <td>Warren Buffett</td>\n",
       "      <td>92</td>\n",
       "      <td>1</td>\n",
       "      <td>28</td>\n",
       "      <td>0</td>\n",
       "      <td>1</td>\n",
       "      <td>1</td>\n",
       "    </tr>\n",
       "    <tr>\n",
       "      <th>...</th>\n",
       "      <td>...</td>\n",
       "      <td>...</td>\n",
       "      <td>...</td>\n",
       "      <td>...</td>\n",
       "      <td>...</td>\n",
       "      <td>...</td>\n",
       "      <td>...</td>\n",
       "      <td>...</td>\n",
       "      <td>...</td>\n",
       "    </tr>\n",
       "    <tr>\n",
       "      <th>2333</th>\n",
       "      <td>2540</td>\n",
       "      <td>1</td>\n",
       "      <td>Yu Rong</td>\n",
       "      <td>51</td>\n",
       "      <td>1</td>\n",
       "      <td>27</td>\n",
       "      <td>4</td>\n",
       "      <td>1</td>\n",
       "      <td>1</td>\n",
       "    </tr>\n",
       "    <tr>\n",
       "      <th>2334</th>\n",
       "      <td>2540</td>\n",
       "      <td>1</td>\n",
       "      <td>Richard Yuengling, Jr.</td>\n",
       "      <td>80</td>\n",
       "      <td>1</td>\n",
       "      <td>28</td>\n",
       "      <td>5</td>\n",
       "      <td>0</td>\n",
       "      <td>2</td>\n",
       "    </tr>\n",
       "    <tr>\n",
       "      <th>2335</th>\n",
       "      <td>2540</td>\n",
       "      <td>1</td>\n",
       "      <td>Zhang Gongyun</td>\n",
       "      <td>60</td>\n",
       "      <td>1</td>\n",
       "      <td>27</td>\n",
       "      <td>2</td>\n",
       "      <td>1</td>\n",
       "      <td>0</td>\n",
       "    </tr>\n",
       "    <tr>\n",
       "      <th>2336</th>\n",
       "      <td>2540</td>\n",
       "      <td>1</td>\n",
       "      <td>Zhang Guiping &amp; family</td>\n",
       "      <td>71</td>\n",
       "      <td>1</td>\n",
       "      <td>27</td>\n",
       "      <td>7</td>\n",
       "      <td>1</td>\n",
       "      <td>1</td>\n",
       "    </tr>\n",
       "    <tr>\n",
       "      <th>2337</th>\n",
       "      <td>2540</td>\n",
       "      <td>1</td>\n",
       "      <td>Inigo Zobel</td>\n",
       "      <td>66</td>\n",
       "      <td>1</td>\n",
       "      <td>5</td>\n",
       "      <td>6</td>\n",
       "      <td>0</td>\n",
       "      <td>0</td>\n",
       "    </tr>\n",
       "  </tbody>\n",
       "</table>\n",
       "<p>2338 rows × 9 columns</p>\n",
       "</div>"
      ],
      "text/plain": [
       "      rank  net_worth                 full_name  age  gender  \\\n",
       "0        1        211  Bernard Arnault & family   74       1   \n",
       "1        2        180                 Elon Musk   51       1   \n",
       "2        3        114                Jeff Bezos   59       1   \n",
       "3        4        107             Larry Ellison   78       1   \n",
       "4        5        106            Warren Buffett   92       1   \n",
       "...    ...        ...                       ...  ...     ...   \n",
       "2333  2540          1                   Yu Rong   51       1   \n",
       "2334  2540          1    Richard Yuengling, Jr.   80       1   \n",
       "2335  2540          1             Zhang Gongyun   60       1   \n",
       "2336  2540          1    Zhang Guiping & family   71       1   \n",
       "2337  2540          1               Inigo Zobel   66       1   \n",
       "\n",
       "      country_of_citizenship  business_category  self_made  wealth_status  \n",
       "0                         14                  3          0              3  \n",
       "1                         28                 10          1              1  \n",
       "2                         28                  1          1              1  \n",
       "3                         28                  1          1              3  \n",
       "4                         28                  0          1              1  \n",
       "...                      ...                ...        ...            ...  \n",
       "2333                      27                  4          1              1  \n",
       "2334                      28                  5          0              2  \n",
       "2335                      27                  2          1              0  \n",
       "2336                      27                  7          1              1  \n",
       "2337                       5                  6          0              0  \n",
       "\n",
       "[2338 rows x 9 columns]"
      ]
     },
     "execution_count": 179,
     "metadata": {},
     "output_type": "execute_result"
    }
   ],
   "source": [
    "df"
   ]
  }
 ],
 "metadata": {
  "kernelspec": {
   "display_name": "forbesvenv",
   "language": "python",
   "name": "python3"
  },
  "language_info": {
   "codemirror_mode": {
    "name": "ipython",
    "version": 3
   },
   "file_extension": ".py",
   "mimetype": "text/x-python",
   "name": "python",
   "nbconvert_exporter": "python",
   "pygments_lexer": "ipython3",
   "version": "3.11.3"
  },
  "orig_nbformat": 4
 },
 "nbformat": 4,
 "nbformat_minor": 2
}
