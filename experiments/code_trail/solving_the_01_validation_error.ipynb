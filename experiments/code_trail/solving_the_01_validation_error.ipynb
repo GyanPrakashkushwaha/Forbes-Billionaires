{
 "cells": [
  {
   "cell_type": "code",
   "execution_count": 38,
   "metadata": {},
   "outputs": [
    {
     "name": "stdout",
     "output_type": "stream",
     "text": [
      "d:\\vscode_machineLearning\\BEST_PROJECTS\\ForbsBillionaires\n",
      "d:\\vscode_machineLearning\\BEST_PROJECTS\\ForbsBillionaires\n"
     ]
    }
   ],
   "source": [
    "import os\n",
    "print(os.getcwd())\n",
    "os.chdir(\"d:/vscode_machineLearning/BEST_PROJECTS/ForbsBillionaires\")\n",
    "print(os.getcwd())"
   ]
  },
  {
   "cell_type": "markdown",
   "metadata": {},
   "source": [
    "## Entity"
   ]
  },
  {
   "cell_type": "code",
   "execution_count": 39,
   "metadata": {},
   "outputs": [],
   "source": [
    "from pathlib import Path\n",
    "from dataclasses import dataclass"
   ]
  },
  {
   "cell_type": "code",
   "execution_count": 40,
   "metadata": {},
   "outputs": [],
   "source": [
    "@dataclass(frozen=True)\n",
    "class DataValidationConfig:\n",
    "    root_dir:Path\n",
    "    STATUS_file :str\n",
    "    data_dir:Path\n",
    "    schema_check:dict"
   ]
  },
  {
   "cell_type": "markdown",
   "metadata": {},
   "source": [
    "## configuration manager"
   ]
  },
  {
   "cell_type": "code",
   "execution_count": 41,
   "metadata": {},
   "outputs": [],
   "source": [
    "from predictor.constatns import *\n",
    "from predictor.utils import *"
   ]
  },
  {
   "cell_type": "code",
   "execution_count": 42,
   "metadata": {},
   "outputs": [
    {
     "data": {
      "text/plain": [
       "WindowsPath('config/config.yaml')"
      ]
     },
     "execution_count": 42,
     "metadata": {},
     "output_type": "execute_result"
    }
   ],
   "source": [
    "CONFIG_FILE_PATH"
   ]
  },
  {
   "cell_type": "code",
   "execution_count": 55,
   "metadata": {},
   "outputs": [],
   "source": [
    "class ConfigurationManager:\n",
    "    def __init__(\n",
    "        self,\n",
    "        config_filepath = CONFIG_FILE_PATH,\n",
    "        params_filepath = PARAMS_FILE_PATH,\n",
    "        schema_filepath = SCHEMA_FILE_PATH):\n",
    "\n",
    "\n",
    "        self.config = read_yaml(config_filepath)\n",
    "        self.params = read_yaml(params_filepath)\n",
    "        self.schema = read_yaml(schema_filepath)\n",
    "\n",
    "        creat_dirs([self.config.artifacts_root])\n",
    "\n",
    "    \n",
    "    def get_data_validation_config(self) -> DataValidationConfig:\n",
    "        config = self.config.data_validation\n",
    "        schema = self.schema.INDEPENDENT_FEATURES\n",
    "\n",
    "        creat_dirs([config.root_dir])\n",
    "        \n",
    "\n",
    "        data_validation_config =  DataValidationConfig(\n",
    "            root_dir=config.root_dir,\n",
    "            STATUS_file=config.STATUS_FILE,\n",
    "            data_dir=config.data_dir,\n",
    "            schema_check=schema\n",
    "        )\n",
    "\n",
    "        return data_validation_config\n",
    "        \n",
    "        \n",
    "        "
   ]
  },
  {
   "cell_type": "code",
   "execution_count": 56,
   "metadata": {},
   "outputs": [
    {
     "name": "stdout",
     "output_type": "stream",
     "text": [
      "[2023-09-13 11:37:29,988: INFO: utils: yaml file: config\\config.yaml loaded successfully]\n"
     ]
    },
    {
     "data": {
      "text/plain": [
       "ConfigBox({'artifacts_root': 'artifacts', 'data_validation': {'root_dir': 'artifacts\\\\validation', 'data_dir': 'artifacts\\\\cleand_data\\\\billionaires.csv', 'STATUS_FILE': 'artifacts\\\\cleand_data\\\\status.txt'}})"
      ]
     },
     "execution_count": 56,
     "metadata": {},
     "output_type": "execute_result"
    }
   ],
   "source": [
    "read_yaml(CONFIG_FILE_PATH)"
   ]
  },
  {
   "cell_type": "code",
   "execution_count": 57,
   "metadata": {},
   "outputs": [
    {
     "name": "stdout",
     "output_type": "stream",
     "text": [
      "[2023-09-13 11:37:30,270: INFO: utils: yaml file: schema.yaml loaded successfully]\n"
     ]
    },
    {
     "data": {
      "text/plain": [
       "ConfigBox({'INDEPENDENT_FEATURES': {'rank': 'int64', 'full_name': 'object', 'age': 'int64', 'gender': 'object', 'country_of_citizenship': 'object', 'city_of_residence': 'object', 'business_category': 'object', 'self_made': 'bool', 'wealth_status': 'object'}, 'DEPENDENT_FEATURES': {'net_worth': 'int64'}})"
      ]
     },
     "execution_count": 57,
     "metadata": {},
     "output_type": "execute_result"
    }
   ],
   "source": [
    "read_yaml(SCHEMA_FILE_PATH)"
   ]
  },
  {
   "cell_type": "code",
   "execution_count": 58,
   "metadata": {},
   "outputs": [
    {
     "name": "stdout",
     "output_type": "stream",
     "text": [
      "[2023-09-13 11:37:30,531: INFO: utils: yaml file: params.yaml loaded successfully]\n"
     ]
    },
    {
     "data": {
      "text/plain": [
       "ConfigBox({'key': 'val'})"
      ]
     },
     "execution_count": 58,
     "metadata": {},
     "output_type": "execute_result"
    }
   ],
   "source": [
    "read_yaml(PARAMS_FILE_PATH)"
   ]
  },
  {
   "cell_type": "markdown",
   "metadata": {},
   "source": [
    "## components"
   ]
  },
  {
   "cell_type": "code",
   "execution_count": 59,
   "metadata": {},
   "outputs": [],
   "source": [
    "from predictor import logger\n",
    "import pandas as pd"
   ]
  },
  {
   "cell_type": "code",
   "execution_count": 60,
   "metadata": {},
   "outputs": [
    {
     "name": "stdout",
     "output_type": "stream",
     "text": [
      "[2023-09-13 11:37:36,316: INFO: utils: yaml file: config\\config.yaml loaded successfully]\n"
     ]
    }
   ],
   "source": [
    "config = read_yaml(CONFIG_FILE_PATH)"
   ]
  },
  {
   "cell_type": "code",
   "execution_count": 61,
   "metadata": {},
   "outputs": [
    {
     "data": {
      "text/plain": [
       "box.config_box.ConfigBox"
      ]
     },
     "execution_count": 61,
     "metadata": {},
     "output_type": "execute_result"
    }
   ],
   "source": [
    "type(config)"
   ]
  },
  {
   "cell_type": "code",
   "execution_count": 62,
   "metadata": {},
   "outputs": [
    {
     "data": {
      "text/plain": [
       "'artifacts'"
      ]
     },
     "execution_count": 62,
     "metadata": {},
     "output_type": "execute_result"
    }
   ],
   "source": [
    "config.artifacts_root"
   ]
  },
  {
   "cell_type": "code",
   "execution_count": 63,
   "metadata": {},
   "outputs": [
    {
     "data": {
      "text/plain": [
       "'artifacts\\\\cleand_data\\\\billionaires.csv'"
      ]
     },
     "execution_count": 63,
     "metadata": {},
     "output_type": "execute_result"
    }
   ],
   "source": [
    "config.data_validation.data_dir"
   ]
  },
  {
   "cell_type": "code",
   "execution_count": 64,
   "metadata": {},
   "outputs": [
    {
     "data": {
      "text/html": [
       "<div>\n",
       "<style scoped>\n",
       "    .dataframe tbody tr th:only-of-type {\n",
       "        vertical-align: middle;\n",
       "    }\n",
       "\n",
       "    .dataframe tbody tr th {\n",
       "        vertical-align: top;\n",
       "    }\n",
       "\n",
       "    .dataframe thead th {\n",
       "        text-align: right;\n",
       "    }\n",
       "</style>\n",
       "<table border=\"1\" class=\"dataframe\">\n",
       "  <thead>\n",
       "    <tr style=\"text-align: right;\">\n",
       "      <th></th>\n",
       "      <th>year</th>\n",
       "      <th>month</th>\n",
       "      <th>rank</th>\n",
       "      <th>net_worth</th>\n",
       "      <th>full_name</th>\n",
       "      <th>age</th>\n",
       "      <th>gender</th>\n",
       "      <th>country_of_citizenship</th>\n",
       "      <th>city_of_residence</th>\n",
       "      <th>business_category</th>\n",
       "      <th>self_made</th>\n",
       "      <th>wealth_status</th>\n",
       "    </tr>\n",
       "  </thead>\n",
       "  <tbody>\n",
       "    <tr>\n",
       "      <th>0</th>\n",
       "      <td>2017</td>\n",
       "      <td>3</td>\n",
       "      <td>1</td>\n",
       "      <td>86.0</td>\n",
       "      <td>Bill Gates</td>\n",
       "      <td>61.0</td>\n",
       "      <td>Male</td>\n",
       "      <td>United States</td>\n",
       "      <td>Medina</td>\n",
       "      <td>Technology</td>\n",
       "      <td>True</td>\n",
       "      <td>Increased</td>\n",
       "    </tr>\n",
       "    <tr>\n",
       "      <th>1</th>\n",
       "      <td>2017</td>\n",
       "      <td>3</td>\n",
       "      <td>2</td>\n",
       "      <td>75.6</td>\n",
       "      <td>Warren Buffett</td>\n",
       "      <td>86.0</td>\n",
       "      <td>Male</td>\n",
       "      <td>United States</td>\n",
       "      <td>Omaha</td>\n",
       "      <td>Finance and Investments</td>\n",
       "      <td>True</td>\n",
       "      <td>Increased</td>\n",
       "    </tr>\n",
       "    <tr>\n",
       "      <th>2</th>\n",
       "      <td>2017</td>\n",
       "      <td>3</td>\n",
       "      <td>3</td>\n",
       "      <td>72.8</td>\n",
       "      <td>Jeff Bezos</td>\n",
       "      <td>53.0</td>\n",
       "      <td>Male</td>\n",
       "      <td>United States</td>\n",
       "      <td>Seattle</td>\n",
       "      <td>Technology</td>\n",
       "      <td>True</td>\n",
       "      <td>Increased</td>\n",
       "    </tr>\n",
       "    <tr>\n",
       "      <th>3</th>\n",
       "      <td>2017</td>\n",
       "      <td>3</td>\n",
       "      <td>4</td>\n",
       "      <td>71.3</td>\n",
       "      <td>Amancio Ortega</td>\n",
       "      <td>80.0</td>\n",
       "      <td>Male</td>\n",
       "      <td>Spain</td>\n",
       "      <td>La Coruna</td>\n",
       "      <td>Fashion &amp; Retail</td>\n",
       "      <td>True</td>\n",
       "      <td>Increased</td>\n",
       "    </tr>\n",
       "    <tr>\n",
       "      <th>4</th>\n",
       "      <td>2017</td>\n",
       "      <td>3</td>\n",
       "      <td>5</td>\n",
       "      <td>56.0</td>\n",
       "      <td>Mark Zuckerberg</td>\n",
       "      <td>32.0</td>\n",
       "      <td>Male</td>\n",
       "      <td>United States</td>\n",
       "      <td>Palo Alto</td>\n",
       "      <td>Technology</td>\n",
       "      <td>True</td>\n",
       "      <td>Increased</td>\n",
       "    </tr>\n",
       "    <tr>\n",
       "      <th>...</th>\n",
       "      <td>...</td>\n",
       "      <td>...</td>\n",
       "      <td>...</td>\n",
       "      <td>...</td>\n",
       "      <td>...</td>\n",
       "      <td>...</td>\n",
       "      <td>...</td>\n",
       "      <td>...</td>\n",
       "      <td>...</td>\n",
       "      <td>...</td>\n",
       "      <td>...</td>\n",
       "      <td>...</td>\n",
       "    </tr>\n",
       "    <tr>\n",
       "      <th>16557</th>\n",
       "      <td>2023</td>\n",
       "      <td>4</td>\n",
       "      <td>2540</td>\n",
       "      <td>1.0</td>\n",
       "      <td>Yu Rong</td>\n",
       "      <td>51.0</td>\n",
       "      <td>Male</td>\n",
       "      <td>China</td>\n",
       "      <td>Shanghai</td>\n",
       "      <td>Healthcare</td>\n",
       "      <td>True</td>\n",
       "      <td>Decreased</td>\n",
       "    </tr>\n",
       "    <tr>\n",
       "      <th>16558</th>\n",
       "      <td>2023</td>\n",
       "      <td>4</td>\n",
       "      <td>2540</td>\n",
       "      <td>1.0</td>\n",
       "      <td>Richard Yuengling, Jr.</td>\n",
       "      <td>80.0</td>\n",
       "      <td>Male</td>\n",
       "      <td>United States</td>\n",
       "      <td>Pottsville</td>\n",
       "      <td>Food &amp; Beverage</td>\n",
       "      <td>False</td>\n",
       "      <td>Remained Even</td>\n",
       "    </tr>\n",
       "    <tr>\n",
       "      <th>16559</th>\n",
       "      <td>2023</td>\n",
       "      <td>4</td>\n",
       "      <td>2540</td>\n",
       "      <td>1.0</td>\n",
       "      <td>Zhang Gongyun</td>\n",
       "      <td>60.0</td>\n",
       "      <td>Male</td>\n",
       "      <td>China</td>\n",
       "      <td>Gaomi</td>\n",
       "      <td>Manufacturing</td>\n",
       "      <td>True</td>\n",
       "      <td>Returned to List</td>\n",
       "    </tr>\n",
       "    <tr>\n",
       "      <th>16560</th>\n",
       "      <td>2023</td>\n",
       "      <td>4</td>\n",
       "      <td>2540</td>\n",
       "      <td>1.0</td>\n",
       "      <td>Zhang Guiping &amp; family</td>\n",
       "      <td>71.0</td>\n",
       "      <td>Male</td>\n",
       "      <td>China</td>\n",
       "      <td>Nanjing</td>\n",
       "      <td>Real Estate</td>\n",
       "      <td>True</td>\n",
       "      <td>Decreased</td>\n",
       "    </tr>\n",
       "    <tr>\n",
       "      <th>16561</th>\n",
       "      <td>2023</td>\n",
       "      <td>4</td>\n",
       "      <td>2540</td>\n",
       "      <td>1.0</td>\n",
       "      <td>Inigo Zobel</td>\n",
       "      <td>66.0</td>\n",
       "      <td>Male</td>\n",
       "      <td>Philippines</td>\n",
       "      <td>Makati</td>\n",
       "      <td>Diversified</td>\n",
       "      <td>False</td>\n",
       "      <td>Returned to List</td>\n",
       "    </tr>\n",
       "  </tbody>\n",
       "</table>\n",
       "<p>16562 rows × 12 columns</p>\n",
       "</div>"
      ],
      "text/plain": [
       "       year  month  rank  net_worth               full_name   age gender  \\\n",
       "0      2017      3     1       86.0              Bill Gates  61.0   Male   \n",
       "1      2017      3     2       75.6          Warren Buffett  86.0   Male   \n",
       "2      2017      3     3       72.8              Jeff Bezos  53.0   Male   \n",
       "3      2017      3     4       71.3          Amancio Ortega  80.0   Male   \n",
       "4      2017      3     5       56.0         Mark Zuckerberg  32.0   Male   \n",
       "...     ...    ...   ...        ...                     ...   ...    ...   \n",
       "16557  2023      4  2540        1.0                 Yu Rong  51.0   Male   \n",
       "16558  2023      4  2540        1.0  Richard Yuengling, Jr.  80.0   Male   \n",
       "16559  2023      4  2540        1.0           Zhang Gongyun  60.0   Male   \n",
       "16560  2023      4  2540        1.0  Zhang Guiping & family  71.0   Male   \n",
       "16561  2023      4  2540        1.0             Inigo Zobel  66.0   Male   \n",
       "\n",
       "      country_of_citizenship city_of_residence        business_category  \\\n",
       "0              United States            Medina               Technology   \n",
       "1              United States             Omaha  Finance and Investments   \n",
       "2              United States           Seattle               Technology   \n",
       "3                      Spain         La Coruna         Fashion & Retail   \n",
       "4              United States         Palo Alto               Technology   \n",
       "...                      ...               ...                      ...   \n",
       "16557                  China          Shanghai               Healthcare   \n",
       "16558          United States        Pottsville          Food & Beverage   \n",
       "16559                  China             Gaomi            Manufacturing   \n",
       "16560                  China           Nanjing              Real Estate   \n",
       "16561            Philippines            Makati              Diversified   \n",
       "\n",
       "       self_made     wealth_status  \n",
       "0           True         Increased  \n",
       "1           True         Increased  \n",
       "2           True         Increased  \n",
       "3           True         Increased  \n",
       "4           True         Increased  \n",
       "...          ...               ...  \n",
       "16557       True         Decreased  \n",
       "16558      False     Remained Even  \n",
       "16559       True  Returned to List  \n",
       "16560       True         Decreased  \n",
       "16561      False  Returned to List  \n",
       "\n",
       "[16562 rows x 12 columns]"
      ]
     },
     "execution_count": 64,
     "metadata": {},
     "output_type": "execute_result"
    }
   ],
   "source": [
    "pd.read_csv(config.data_validation.data_dir)"
   ]
  },
  {
   "cell_type": "code",
   "execution_count": 65,
   "metadata": {},
   "outputs": [],
   "source": [
    "class DataValidataion:\n",
    "    def __init__(self,config_in :DataValidationConfig):\n",
    "        self.config_in = config_in\n",
    "    \n",
    "    def validate_features(self) -> bool:\n",
    "        try:\n",
    "            validation_status = False\n",
    "            df = pd.read_csv(self.config_in.data_dir)\n",
    "            all_features = list(df.columns)\n",
    "            all_schema = self.config_in.schema_check\n",
    "\n",
    "            for cols in all_features:\n",
    "                if cols not in all_schema:\n",
    "                    validation_status = False\n",
    "                    with open(self.config_in.STATUS_file,'w') as stat_file:\n",
    "                        stat_file.write(f\"Validation status: {validation_status}\")\n",
    "                \n",
    "                else:\n",
    "                    validation_status = True\n",
    "                    with open(self.config_in.STATUS_file,'w') as f:\n",
    "                        f.write(f\"Validation status: {validation_status}\")\n",
    "\n",
    "            return validation_status\n",
    "        except Exception as e:\n",
    "            raise CustomException(e)\n",
    "        "
   ]
  },
  {
   "cell_type": "markdown",
   "metadata": {},
   "source": [
    "## pipeline"
   ]
  },
  {
   "cell_type": "code",
   "execution_count": 68,
   "metadata": {},
   "outputs": [
    {
     "name": "stdout",
     "output_type": "stream",
     "text": [
      "[2023-09-13 11:38:23,576: INFO: utils: yaml file: config\\config.yaml loaded successfully]\n",
      "[2023-09-13 11:38:23,579: INFO: utils: yaml file: params.yaml loaded successfully]\n",
      "[2023-09-13 11:38:23,584: INFO: utils: yaml file: schema.yaml loaded successfully]\n",
      "[2023-09-13 11:38:23,587: INFO: utils: Created artifacts]\n",
      "[2023-09-13 11:38:23,588: INFO: utils: Created artifacts\\validation]\n"
     ]
    }
   ],
   "source": [
    "try:\n",
    "    confg = ConfigurationManager()\n",
    "    data_val_confg = config.get_data_validation_config()\n",
    "    data_validation = DataValidataion(config_in=data_val_confg)\n",
    "    data_validation.validate_features()\n",
    "\n",
    "except Exception as e:\n",
    "    raise CustomException(e)\n",
    "\n",
    "\n",
    "# try:\n",
    "#     config = ConfigurationManager()\n",
    "#     data_val_config = config.get_data_validation_config()\n",
    "#     data_validation = DataValidation(config_in=data_val_config)\n",
    "#     data_validation.validate_features()\n",
    "# except Exception as e:\n",
    "#     raise CustomException(e,sys)\n"
   ]
  },
  {
   "cell_type": "markdown",
   "metadata": {},
   "source": [
    "# **The `params.yaml` was Empty that's why I was getting error.**"
   ]
  },
  {
   "cell_type": "code",
   "execution_count": null,
   "metadata": {},
   "outputs": [],
   "source": []
  },
  {
   "cell_type": "code",
   "execution_count": null,
   "metadata": {},
   "outputs": [],
   "source": []
  },
  {
   "cell_type": "code",
   "execution_count": null,
   "metadata": {},
   "outputs": [],
   "source": []
  },
  {
   "cell_type": "code",
   "execution_count": null,
   "metadata": {},
   "outputs": [],
   "source": []
  },
  {
   "cell_type": "code",
   "execution_count": null,
   "metadata": {},
   "outputs": [],
   "source": []
  },
  {
   "cell_type": "code",
   "execution_count": null,
   "metadata": {},
   "outputs": [],
   "source": []
  },
  {
   "cell_type": "code",
   "execution_count": null,
   "metadata": {},
   "outputs": [],
   "source": []
  },
  {
   "cell_type": "code",
   "execution_count": null,
   "metadata": {},
   "outputs": [],
   "source": []
  },
  {
   "cell_type": "code",
   "execution_count": null,
   "metadata": {},
   "outputs": [],
   "source": []
  },
  {
   "cell_type": "code",
   "execution_count": null,
   "metadata": {},
   "outputs": [],
   "source": []
  },
  {
   "cell_type": "code",
   "execution_count": null,
   "metadata": {},
   "outputs": [],
   "source": []
  },
  {
   "cell_type": "code",
   "execution_count": null,
   "metadata": {},
   "outputs": [],
   "source": []
  },
  {
   "cell_type": "code",
   "execution_count": null,
   "metadata": {},
   "outputs": [],
   "source": []
  }
 ],
 "metadata": {
  "kernelspec": {
   "display_name": "forbesvenv",
   "language": "python",
   "name": "python3"
  },
  "language_info": {
   "codemirror_mode": {
    "name": "ipython",
    "version": 3
   },
   "file_extension": ".py",
   "mimetype": "text/x-python",
   "name": "python",
   "nbconvert_exporter": "python",
   "pygments_lexer": "ipython3",
   "version": "3.11.3"
  },
  "orig_nbformat": 4
 },
 "nbformat": 4,
 "nbformat_minor": 2
}
