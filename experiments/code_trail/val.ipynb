{
 "cells": [
  {
   "cell_type": "code",
   "execution_count": null,
   "metadata": {},
   "outputs": [],
   "source": []
  },
  {
   "cell_type": "code",
   "execution_count": null,
   "metadata": {},
   "outputs": [
    {
     "name": "stdout",
     "output_type": "stream",
     "text": [
      "d:\\vscode_machineLearning\\BEST_PROJECTS\\ForbsBillionaires\\experiments\\code_trail\n",
      "d:\\vscode_machineLearning\\BEST_PROJECTS\\ForbsBillionaires\n"
     ]
    }
   ],
   "source": [
    "import os\n",
    "print(os.getcwd())\n",
    "os.chdir(\"d:/vscode_machineLearning/BEST_PROJECTS/ForbsBillionaires\")\n",
    "print(os.getcwd())"
   ]
  },
  {
   "cell_type": "markdown",
   "metadata": {},
   "source": [
    "## Entity"
   ]
  },
  {
   "cell_type": "code",
   "execution_count": null,
   "metadata": {},
   "outputs": [],
   "source": [
    "from pathlib import Path\n",
    "from dataclasses import dataclass"
   ]
  },
  {
   "cell_type": "code",
   "execution_count": null,
   "metadata": {},
   "outputs": [],
   "source": [
    "@dataclass(frozen=True)\n",
    "class DataValidationConfig:\n",
    "    root_dir:Path\n",
    "    STATUS_file :str\n",
    "    data_dir:Path\n",
    "    schema_check:dict"
   ]
  },
  {
   "cell_type": "markdown",
   "metadata": {},
   "source": [
    "## configuration manager"
   ]
  },
  {
   "cell_type": "code",
   "execution_count": null,
   "metadata": {},
   "outputs": [],
   "source": [
    "from predictor.constatns import *\n",
    "from predictor.utils import *"
   ]
  },
  {
   "cell_type": "code",
   "execution_count": null,
   "metadata": {},
   "outputs": [
    {
     "data": {
      "text/plain": [
       "WindowsPath('config/config.yaml')"
      ]
     },
     "metadata": {},
     "output_type": "display_data"
    }
   ],
   "source": [
    "CONFIG_FILE_PATH"
   ]
  },
  {
   "cell_type": "code",
   "execution_count": null,
   "metadata": {},
   "outputs": [],
   "source": [
    "class ConfigurationManager:\n",
    "    def __init__(\n",
    "        self,\n",
    "        config_filepath = CONFIG_FILE_PATH,\n",
    "        params_filepath = PARAMS_FILE_PATH,\n",
    "        schema_filepath = SCHEMA_FILE_PATH):\n",
    "\n",
    "\n",
    "        self.config = read_yaml(config_filepath)\n",
    "        self.params = read_yaml(params_filepath)\n",
    "        self.schema = read_yaml(schema_filepath)\n",
    "\n",
    "        creat_dirs([self.config.artifacts_root])\n",
    "\n",
    "    \n",
    "    def get_data_validation_config(self) -> DataValidationConfig:\n",
    "        config = self.config.data_validation\n",
    "        schema = self.schema.INDEPENDENT_FEATURES\n",
    "\n",
    "        creat_dirs([config.root_dir])\n",
    "\n",
    "        return DataValidationConfig(\n",
    "            root_dir=config.root_dir,\n",
    "            STATUS_file=config.STATUS_FILE,\n",
    "            data_dir=config.data_dir,\n",
    "            schema_check=schema\n",
    "        )\n",
    "        \n",
    "        \n",
    "        "
   ]
  },
  {
   "cell_type": "markdown",
   "metadata": {},
   "source": [
    "## components"
   ]
  },
  {
   "cell_type": "code",
   "execution_count": null,
   "metadata": {},
   "outputs": [],
   "source": [
    "from predictor import logger\n",
    "import pandas as pd"
   ]
  },
  {
   "cell_type": "code",
   "execution_count": null,
   "metadata": {},
   "outputs": [
    {
     "name": "stdout",
     "output_type": "stream",
     "text": [
      "[2023-09-13 09:56:19,813: INFO: __init__: yaml file: config\\config.yaml loaded successfully]\n"
     ]
    }
   ],
   "source": [
    "config = read_yaml(CONFIG_FILE_PATH)"
   ]
  },
  {
   "cell_type": "code",
   "execution_count": null,
   "metadata": {},
   "outputs": [
    {
     "data": {
      "text/plain": [
       "box.config_box.ConfigBox"
      ]
     },
     "metadata": {},
     "output_type": "display_data"
    }
   ],
   "source": [
    "type(config)"
   ]
  },
  {
   "cell_type": "code",
   "execution_count": null,
   "metadata": {},
   "outputs": [
    {
     "data": {
      "text/plain": [
       "'artifacts'"
      ]
     },
     "metadata": {},
     "output_type": "display_data"
    }
   ],
   "source": [
    "config.artifacts_root"
   ]
  },
  {
   "cell_type": "code",
   "execution_count": null,
   "metadata": {},
   "outputs": [
    {
     "data": {
      "text/plain": [
       "'artifacts\\\\cleand_data\\\\billionaires.csv'"
      ]
     },
     "metadata": {},
     "output_type": "display_data"
    }
   ],
   "source": [
    "config.data_validation.data_dir"
   ]
  },
  {
   "cell_type": "code",
   "execution_count": null,
   "metadata": {},
   "outputs": [
    {
     "data": {
      "text/html": [
       "<div>\n",
       "<style scoped>\n",
       "    .dataframe tbody tr th:only-of-type {\n",
       "        vertical-align: middle;\n",
       "    }\n",
       "\n",
       "    .dataframe tbody tr th {\n",
       "        vertical-align: top;\n",
       "    }\n",
       "\n",
       "    .dataframe thead th {\n",
       "        text-align: right;\n",
       "    }\n",
       "</style>\n",
       "<table border=\"1\" class=\"dataframe\">\n",
       "  <thead>\n",
       "    <tr style=\"text-align: right;\">\n",
       "      <th></th>\n",
       "      <th>year</th>\n",
       "      <th>month</th>\n",
       "      <th>rank</th>\n",
       "      <th>net_worth</th>\n",
       "      <th>full_name</th>\n",
       "      <th>age</th>\n",
       "      <th>gender</th>\n",
       "      <th>country_of_citizenship</th>\n",
       "      <th>city_of_residence</th>\n",
       "      <th>business_category</th>\n",
       "      <th>self_made</th>\n",
       "      <th>wealth_status</th>\n",
       "    </tr>\n",
       "  </thead>\n",
       "  <tbody>\n",
       "    <tr>\n",
       "      <th>0</th>\n",
       "      <td>2017</td>\n",
       "      <td>3</td>\n",
       "      <td>1</td>\n",
       "      <td>86.0</td>\n",
       "      <td>Bill Gates</td>\n",
       "      <td>61.0</td>\n",
       "      <td>Male</td>\n",
       "      <td>United States</td>\n",
       "      <td>Medina</td>\n",
       "      <td>Technology</td>\n",
       "      <td>True</td>\n",
       "      <td>Increased</td>\n",
       "    </tr>\n",
       "    <tr>\n",
       "      <th>1</th>\n",
       "      <td>2017</td>\n",
       "      <td>3</td>\n",
       "      <td>2</td>\n",
       "      <td>75.6</td>\n",
       "      <td>Warren Buffett</td>\n",
       "      <td>86.0</td>\n",
       "      <td>Male</td>\n",
       "      <td>United States</td>\n",
       "      <td>Omaha</td>\n",
       "      <td>Finance and Investments</td>\n",
       "      <td>True</td>\n",
       "      <td>Increased</td>\n",
       "    </tr>\n",
       "    <tr>\n",
       "      <th>2</th>\n",
       "      <td>2017</td>\n",
       "      <td>3</td>\n",
       "      <td>3</td>\n",
       "      <td>72.8</td>\n",
       "      <td>Jeff Bezos</td>\n",
       "      <td>53.0</td>\n",
       "      <td>Male</td>\n",
       "      <td>United States</td>\n",
       "      <td>Seattle</td>\n",
       "      <td>Technology</td>\n",
       "      <td>True</td>\n",
       "      <td>Increased</td>\n",
       "    </tr>\n",
       "    <tr>\n",
       "      <th>3</th>\n",
       "      <td>2017</td>\n",
       "      <td>3</td>\n",
       "      <td>4</td>\n",
       "      <td>71.3</td>\n",
       "      <td>Amancio Ortega</td>\n",
       "      <td>80.0</td>\n",
       "      <td>Male</td>\n",
       "      <td>Spain</td>\n",
       "      <td>La Coruna</td>\n",
       "      <td>Fashion &amp; Retail</td>\n",
       "      <td>True</td>\n",
       "      <td>Increased</td>\n",
       "    </tr>\n",
       "    <tr>\n",
       "      <th>4</th>\n",
       "      <td>2017</td>\n",
       "      <td>3</td>\n",
       "      <td>5</td>\n",
       "      <td>56.0</td>\n",
       "      <td>Mark Zuckerberg</td>\n",
       "      <td>32.0</td>\n",
       "      <td>Male</td>\n",
       "      <td>United States</td>\n",
       "      <td>Palo Alto</td>\n",
       "      <td>Technology</td>\n",
       "      <td>True</td>\n",
       "      <td>Increased</td>\n",
       "    </tr>\n",
       "    <tr>\n",
       "      <th>...</th>\n",
       "      <td>...</td>\n",
       "      <td>...</td>\n",
       "      <td>...</td>\n",
       "      <td>...</td>\n",
       "      <td>...</td>\n",
       "      <td>...</td>\n",
       "      <td>...</td>\n",
       "      <td>...</td>\n",
       "      <td>...</td>\n",
       "      <td>...</td>\n",
       "      <td>...</td>\n",
       "      <td>...</td>\n",
       "    </tr>\n",
       "    <tr>\n",
       "      <th>16557</th>\n",
       "      <td>2023</td>\n",
       "      <td>4</td>\n",
       "      <td>2540</td>\n",
       "      <td>1.0</td>\n",
       "      <td>Yu Rong</td>\n",
       "      <td>51.0</td>\n",
       "      <td>Male</td>\n",
       "      <td>China</td>\n",
       "      <td>Shanghai</td>\n",
       "      <td>Healthcare</td>\n",
       "      <td>True</td>\n",
       "      <td>Decreased</td>\n",
       "    </tr>\n",
       "    <tr>\n",
       "      <th>16558</th>\n",
       "      <td>2023</td>\n",
       "      <td>4</td>\n",
       "      <td>2540</td>\n",
       "      <td>1.0</td>\n",
       "      <td>Richard Yuengling, Jr.</td>\n",
       "      <td>80.0</td>\n",
       "      <td>Male</td>\n",
       "      <td>United States</td>\n",
       "      <td>Pottsville</td>\n",
       "      <td>Food &amp; Beverage</td>\n",
       "      <td>False</td>\n",
       "      <td>Remained Even</td>\n",
       "    </tr>\n",
       "    <tr>\n",
       "      <th>16559</th>\n",
       "      <td>2023</td>\n",
       "      <td>4</td>\n",
       "      <td>2540</td>\n",
       "      <td>1.0</td>\n",
       "      <td>Zhang Gongyun</td>\n",
       "      <td>60.0</td>\n",
       "      <td>Male</td>\n",
       "      <td>China</td>\n",
       "      <td>Gaomi</td>\n",
       "      <td>Manufacturing</td>\n",
       "      <td>True</td>\n",
       "      <td>Returned to List</td>\n",
       "    </tr>\n",
       "    <tr>\n",
       "      <th>16560</th>\n",
       "      <td>2023</td>\n",
       "      <td>4</td>\n",
       "      <td>2540</td>\n",
       "      <td>1.0</td>\n",
       "      <td>Zhang Guiping &amp; family</td>\n",
       "      <td>71.0</td>\n",
       "      <td>Male</td>\n",
       "      <td>China</td>\n",
       "      <td>Nanjing</td>\n",
       "      <td>Real Estate</td>\n",
       "      <td>True</td>\n",
       "      <td>Decreased</td>\n",
       "    </tr>\n",
       "    <tr>\n",
       "      <th>16561</th>\n",
       "      <td>2023</td>\n",
       "      <td>4</td>\n",
       "      <td>2540</td>\n",
       "      <td>1.0</td>\n",
       "      <td>Inigo Zobel</td>\n",
       "      <td>66.0</td>\n",
       "      <td>Male</td>\n",
       "      <td>Philippines</td>\n",
       "      <td>Makati</td>\n",
       "      <td>Diversified</td>\n",
       "      <td>False</td>\n",
       "      <td>Returned to List</td>\n",
       "    </tr>\n",
       "  </tbody>\n",
       "</table>\n",
       "<p>16562 rows × 12 columns</p>\n",
       "</div>"
      ],
      "text/plain": [
       "       year  month  rank  net_worth               full_name   age gender  \\\n",
       "0      2017      3     1       86.0              Bill Gates  61.0   Male   \n",
       "1      2017      3     2       75.6          Warren Buffett  86.0   Male   \n",
       "2      2017      3     3       72.8              Jeff Bezos  53.0   Male   \n",
       "3      2017      3     4       71.3          Amancio Ortega  80.0   Male   \n",
       "4      2017      3     5       56.0         Mark Zuckerberg  32.0   Male   \n",
       "...     ...    ...   ...        ...                     ...   ...    ...   \n",
       "16557  2023      4  2540        1.0                 Yu Rong  51.0   Male   \n",
       "16558  2023      4  2540        1.0  Richard Yuengling, Jr.  80.0   Male   \n",
       "16559  2023      4  2540        1.0           Zhang Gongyun  60.0   Male   \n",
       "16560  2023      4  2540        1.0  Zhang Guiping & family  71.0   Male   \n",
       "16561  2023      4  2540        1.0             Inigo Zobel  66.0   Male   \n",
       "\n",
       "      country_of_citizenship city_of_residence        business_category  \\\n",
       "0              United States            Medina               Technology   \n",
       "1              United States             Omaha  Finance and Investments   \n",
       "2              United States           Seattle               Technology   \n",
       "3                      Spain         La Coruna         Fashion & Retail   \n",
       "4              United States         Palo Alto               Technology   \n",
       "...                      ...               ...                      ...   \n",
       "16557                  China          Shanghai               Healthcare   \n",
       "16558          United States        Pottsville          Food & Beverage   \n",
       "16559                  China             Gaomi            Manufacturing   \n",
       "16560                  China           Nanjing              Real Estate   \n",
       "16561            Philippines            Makati              Diversified   \n",
       "\n",
       "       self_made     wealth_status  \n",
       "0           True         Increased  \n",
       "1           True         Increased  \n",
       "2           True         Increased  \n",
       "3           True         Increased  \n",
       "4           True         Increased  \n",
       "...          ...               ...  \n",
       "16557       True         Decreased  \n",
       "16558      False     Remained Even  \n",
       "16559       True  Returned to List  \n",
       "16560       True         Decreased  \n",
       "16561      False  Returned to List  \n",
       "\n",
       "[16562 rows x 12 columns]"
      ]
     },
     "metadata": {},
     "output_type": "display_data"
    }
   ],
   "source": [
    "pd.read_csv(config.data_validation.data_dir)"
   ]
  },
  {
   "cell_type": "code",
   "execution_count": null,
   "metadata": {},
   "outputs": [],
   "source": [
    "class DataValidataion:\n",
    "    def __init__(self,config_in :DataValidationConfig):\n",
    "        self.config_in = config_in\n",
    "        \n",
    "\n",
    "    \n",
    "    def validate_features(self) -> bool:\n",
    "        try:\n",
    "            validation_status = None\n",
    "            df = pd.read_csv(self.config_in.data_dir)\n",
    "            all_features = list(df.columns)\n",
    "            all_schema = self.config_in.schema_check\n",
    "\n",
    "            for cols in all_features:\n",
    "                if cols not in all_schema:\n",
    "                    validation_status = False\n",
    "                    with open(self.STATUS_file,'w') as stat_file:\n",
    "                        stat_file.write(f\"Validation status: {validation_status}\")\n",
    "                \n",
    "                else:\n",
    "                    validation_status = True\n",
    "                    with open(self.STATUS_file,'w') as f:\n",
    "                        f.write(f\"Validation status: {validation_status}\")\n",
    "\n",
    "            return validation_status\n",
    "        except Exception as e:\n",
    "            raise CustomException(e,sys)\n",
    "        "
   ]
  },
  {
   "cell_type": "markdown",
   "metadata": {},
   "source": [
    "## pipeline"
   ]
  },
  {
   "cell_type": "code",
   "execution_count": null,
   "metadata": {},
   "outputs": [
    {
     "name": "stdout",
     "output_type": "stream",
     "text": [
      "[2023-09-13 09:56:19,990: INFO: __init__: yaml file: config\\config.yaml loaded successfully]\n",
      "[2023-09-13 09:56:19,992: INFO: __init__: yaml file: params.yaml loaded successfully]\n"
     ]
    },
    {
     "ename": "CustomException",
     "evalue": "Error occured in python script name [C:\\Users\\Gyanprakash\\AppData\\Local\\Temp\\ipykernel_15304\\3741429332.py] line number [2] error message [Error occured in python script name [d:\\vscode_machineLearning\\BEST_PROJECTS\\ForbsBillionaires\\predictor\\utils\\__init__.py] line number [18] error message [First argument must be mapping or iterable]]",
     "output_type": "error",
     "traceback": [
      "\u001b[1;31m---------------------------------------------------------------------------\u001b[0m\n",
      "\u001b[1;31mBoxValueError\u001b[0m                             Traceback (most recent call last)\n",
      "File \u001b[1;32md:\\vscode_machineLearning\\BEST_PROJECTS\\ForbsBillionaires\\predictor\\utils\\__init__.py:18\u001b[0m, in \u001b[0;36mread_yaml\u001b[1;34m(path_to_yaml)\u001b[0m\n",
      "\u001b[0;32m     17\u001b[0m         logger\u001b[39m.\u001b[39minfo(\u001b[39mf\u001b[39m\u001b[39m\"\u001b[39m\u001b[39myaml file: \u001b[39m\u001b[39m{\u001b[39;00mpath_to_yaml\u001b[39m}\u001b[39;00m\u001b[39m loaded successfully\u001b[39m\u001b[39m\"\u001b[39m)\n",
      "\u001b[1;32m---> 18\u001b[0m         \u001b[39mreturn\u001b[39;00m ConfigBox(content)\n",
      "\u001b[0;32m     19\u001b[0m \u001b[39mexcept\u001b[39;00m \u001b[39mException\u001b[39;00m \u001b[39mas\u001b[39;00m e:\n",
      "\n",
      "File \u001b[1;32md:\\vscode_machineLearning\\BEST_PROJECTS\\ForbsBillionaires\\forbesvenv\\Lib\\site-packages\\box\\box.py:259\u001b[0m, in \u001b[0;36mBox.__init__\u001b[1;34m(self, default_box, default_box_attr, default_box_none_transform, default_box_create_on_get, frozen_box, camel_killer_box, conversion_box, modify_tuples_box, box_safe_prefix, box_duplicates, box_intact_types, box_recast, box_dots, box_class, *args, **kwargs)\u001b[0m\n",
      "\u001b[0;32m    258\u001b[0m     \u001b[39melse\u001b[39;00m:\n",
      "\u001b[1;32m--> 259\u001b[0m         \u001b[39mraise\u001b[39;00m BoxValueError(\u001b[39m\"\u001b[39m\u001b[39mFirst argument must be mapping or iterable\u001b[39m\u001b[39m\"\u001b[39m)\n",
      "\u001b[0;32m    260\u001b[0m \u001b[39melif\u001b[39;00m args:\n",
      "\n",
      "\u001b[1;31mBoxValueError\u001b[0m: First argument must be mapping or iterable\n",
      "\n",
      "During handling of the above exception, another exception occurred:\n",
      "\n",
      "\u001b[1;31mCustomException\u001b[0m                           Traceback (most recent call last)\n",
      "\u001b[1;32md:\\vscode_machineLearning\\BEST_PROJECTS\\ForbsBillionaires\\experiments\\code_trail\\01_validation.ipynb Cell 18\u001b[0m line \u001b[0;36m2\n",
      "\u001b[0;32m      <a href='vscode-notebook-cell:/d%3A/vscode_machineLearning/BEST_PROJECTS/ForbsBillionaires/experiments/code_trail/01_validation.ipynb#X23sZmlsZQ%3D%3D?line=0'>1</a>\u001b[0m \u001b[39mtry\u001b[39;00m:\n",
      "\u001b[1;32m----> <a href='vscode-notebook-cell:/d%3A/vscode_machineLearning/BEST_PROJECTS/ForbsBillionaires/experiments/code_trail/01_validation.ipynb#X23sZmlsZQ%3D%3D?line=1'>2</a>\u001b[0m     confg \u001b[39m=\u001b[39m ConfigurationManager()\n",
      "\u001b[0;32m      <a href='vscode-notebook-cell:/d%3A/vscode_machineLearning/BEST_PROJECTS/ForbsBillionaires/experiments/code_trail/01_validation.ipynb#X23sZmlsZQ%3D%3D?line=2'>3</a>\u001b[0m     data_val_confg \u001b[39m=\u001b[39m config\u001b[39m.\u001b[39mget_data_validation_config()\n",
      "\n",
      "\u001b[1;32md:\\vscode_machineLearning\\BEST_PROJECTS\\ForbsBillionaires\\experiments\\code_trail\\01_validation.ipynb Cell 18\u001b[0m line \u001b[0;36m1\n",
      "\u001b[0;32m      <a href='vscode-notebook-cell:/d%3A/vscode_machineLearning/BEST_PROJECTS/ForbsBillionaires/experiments/code_trail/01_validation.ipynb#X23sZmlsZQ%3D%3D?line=8'>9</a>\u001b[0m \u001b[39mself\u001b[39m\u001b[39m.\u001b[39mconfig \u001b[39m=\u001b[39m read_yaml(config_filepath)\n",
      "\u001b[1;32m---> <a href='vscode-notebook-cell:/d%3A/vscode_machineLearning/BEST_PROJECTS/ForbsBillionaires/experiments/code_trail/01_validation.ipynb#X23sZmlsZQ%3D%3D?line=9'>10</a>\u001b[0m \u001b[39mself\u001b[39m\u001b[39m.\u001b[39mparams \u001b[39m=\u001b[39m read_yaml(params_filepath)\n",
      "\u001b[0;32m     <a href='vscode-notebook-cell:/d%3A/vscode_machineLearning/BEST_PROJECTS/ForbsBillionaires/experiments/code_trail/01_validation.ipynb#X23sZmlsZQ%3D%3D?line=10'>11</a>\u001b[0m \u001b[39mself\u001b[39m\u001b[39m.\u001b[39mschema \u001b[39m=\u001b[39m read_yaml(schema_filepath)\n",
      "\n",
      "File \u001b[1;32md:\\vscode_machineLearning\\BEST_PROJECTS\\ForbsBillionaires\\forbesvenv\\Lib\\site-packages\\ensure\\main.py:849\u001b[0m, in \u001b[0;36mWrappedFunctionReturn.__call__\u001b[1;34m(self, *args, **kwargs)\u001b[0m\n",
      "\u001b[0;32m    845\u001b[0m         \u001b[39mraise\u001b[39;00m EnsureError(msg\u001b[39m.\u001b[39mformat(\n",
      "\u001b[0;32m    846\u001b[0m             arg\u001b[39m=\u001b[39marg, f\u001b[39m=\u001b[39m\u001b[39mself\u001b[39m\u001b[39m.\u001b[39mf, t\u001b[39m=\u001b[39mtempl, valt\u001b[39m=\u001b[39m\u001b[39mtype\u001b[39m(value)\n",
      "\u001b[0;32m    847\u001b[0m         ))\n",
      "\u001b[1;32m--> 849\u001b[0m return_val \u001b[39m=\u001b[39m \u001b[39mself\u001b[39;49m\u001b[39m.\u001b[39;49mf(\u001b[39m*\u001b[39;49margs, \u001b[39m*\u001b[39;49m\u001b[39m*\u001b[39;49mkwargs)\n",
      "\u001b[0;32m    850\u001b[0m \u001b[39mif\u001b[39;00m \u001b[39mnot\u001b[39;00m \u001b[39misinstance\u001b[39m(return_val, \u001b[39mself\u001b[39m\u001b[39m.\u001b[39mreturn_templ):\n",
      "\n",
      "File \u001b[1;32md:\\vscode_machineLearning\\BEST_PROJECTS\\ForbsBillionaires\\predictor\\utils\\__init__.py:20\u001b[0m, in \u001b[0;36mread_yaml\u001b[1;34m(path_to_yaml)\u001b[0m\n",
      "\u001b[0;32m     19\u001b[0m \u001b[39mexcept\u001b[39;00m \u001b[39mException\u001b[39;00m \u001b[39mas\u001b[39;00m e:\n",
      "\u001b[1;32m---> 20\u001b[0m     \u001b[39mraise\u001b[39;00m CustomException(error_msg\u001b[39m=\u001b[39me, error_detail\u001b[39m=\u001b[39msys)\n",
      "\n",
      "\u001b[1;31mCustomException\u001b[0m: Error occured in python script name [d:\\vscode_machineLearning\\BEST_PROJECTS\\ForbsBillionaires\\predictor\\utils\\__init__.py] line number [18] error message [First argument must be mapping or iterable]\n",
      "\n",
      "During handling of the above exception, another exception occurred:\n",
      "\n",
      "\u001b[1;31mCustomException\u001b[0m                           Traceback (most recent call last)\n",
      "\u001b[1;32md:\\vscode_machineLearning\\BEST_PROJECTS\\ForbsBillionaires\\experiments\\code_trail\\01_validation.ipynb Cell 18\u001b[0m line \u001b[0;36m8\n",
      "\u001b[0;32m      <a href='vscode-notebook-cell:/d%3A/vscode_machineLearning/BEST_PROJECTS/ForbsBillionaires/experiments/code_trail/01_validation.ipynb#X23sZmlsZQ%3D%3D?line=4'>5</a>\u001b[0m     data_validation\u001b[39m.\u001b[39mvalidate_features()\n",
      "\u001b[0;32m      <a href='vscode-notebook-cell:/d%3A/vscode_machineLearning/BEST_PROJECTS/ForbsBillionaires/experiments/code_trail/01_validation.ipynb#X23sZmlsZQ%3D%3D?line=6'>7</a>\u001b[0m \u001b[39mexcept\u001b[39;00m \u001b[39mException\u001b[39;00m \u001b[39mas\u001b[39;00m e:\n",
      "\u001b[1;32m----> <a href='vscode-notebook-cell:/d%3A/vscode_machineLearning/BEST_PROJECTS/ForbsBillionaires/experiments/code_trail/01_validation.ipynb#X23sZmlsZQ%3D%3D?line=7'>8</a>\u001b[0m     \u001b[39mraise\u001b[39;00m CustomException(e,sys)\n",
      "\n",
      "\u001b[1;31mCustomException\u001b[0m: Error occured in python script name [C:\\Users\\Gyanprakash\\AppData\\Local\\Temp\\ipykernel_15304\\3741429332.py] line number [2] error message [Error occured in python script name [d:\\vscode_machineLearning\\BEST_PROJECTS\\ForbsBillionaires\\predictor\\utils\\__init__.py] line number [18] error message [First argument must be mapping or iterable]]"
     ]
    }
   ],
   "source": [
    "try:\n",
    "    confg = ConfigurationManager()\n",
    "    data_val_confg = config.get_data_validation_config()\n",
    "    data_validation = DataValidataion(config_in=data_val_confg)\n",
    "    data_validation.validate_features()\n",
    "\n",
    "except Exception as e:\n",
    "    raise CustomException(e,sys)"
   ]
  },
  {
   "cell_type": "code",
   "execution_count": null,
   "metadata": {},
   "outputs": [],
   "source": []
  },
  {
   "cell_type": "code",
   "execution_count": null,
   "metadata": {},
   "outputs": [],
   "source": []
  },
  {
   "cell_type": "code",
   "execution_count": null,
   "metadata": {},
   "outputs": [],
   "source": []
  },
  {
   "cell_type": "code",
   "execution_count": null,
   "metadata": {},
   "outputs": [],
   "source": []
  },
  {
   "cell_type": "code",
   "execution_count": null,
   "metadata": {},
   "outputs": [],
   "source": []
  },
  {
   "cell_type": "code",
   "execution_count": null,
   "metadata": {},
   "outputs": [],
   "source": []
  },
  {
   "cell_type": "code",
   "execution_count": null,
   "metadata": {},
   "outputs": [],
   "source": []
  },
  {
   "cell_type": "code",
   "execution_count": null,
   "metadata": {},
   "outputs": [],
   "source": []
  },
  {
   "cell_type": "code",
   "execution_count": null,
   "metadata": {},
   "outputs": [],
   "source": []
  },
  {
   "cell_type": "code",
   "execution_count": null,
   "metadata": {},
   "outputs": [],
   "source": []
  },
  {
   "cell_type": "code",
   "execution_count": null,
   "metadata": {},
   "outputs": [],
   "source": []
  },
  {
   "cell_type": "code",
   "execution_count": null,
   "metadata": {},
   "outputs": [],
   "source": []
  },
  {
   "cell_type": "code",
   "execution_count": null,
   "metadata": {},
   "outputs": [],
   "source": []
  }
 ],
 "metadata": {
  "language_info": {
   "name": "python"
  },
  "orig_nbformat": 4
 },
 "nbformat": 4,
 "nbformat_minor": 2
}
