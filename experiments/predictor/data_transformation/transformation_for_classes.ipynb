{
 "cells": [
  {
   "cell_type": "code",
   "execution_count": 11,
   "metadata": {},
   "outputs": [
    {
     "name": "stdout",
     "output_type": "stream",
     "text": [
      "d:\\vscode_machineLearning\\BEST_PROJECTS\\ForbsBillionaires\n",
      "d:\\vscode_machineLearning\\BEST_PROJECTS\\ForbsBillionaires\n"
     ]
    }
   ],
   "source": [
    "import os\n",
    "print(os.getcwd())\n",
    "os.chdir(\"d:/vscode_machineLearning/BEST_PROJECTS/ForbsBillionaires\")\n",
    "print(os.getcwd())"
   ]
  },
  {
   "cell_type": "markdown",
   "metadata": {},
   "source": [
    "## Entity"
   ]
  },
  {
   "cell_type": "code",
   "execution_count": 12,
   "metadata": {},
   "outputs": [],
   "source": [
    "from dataclasses import dataclass\n",
    "from pathlib import Path"
   ]
  },
  {
   "cell_type": "code",
   "execution_count": 13,
   "metadata": {},
   "outputs": [],
   "source": [
    "@dataclass(frozen=True)\n",
    "class DataTransformationConfig:\n",
    "    root_dir : Path\n",
    "    data_path : Path\n",
    "    Status_file : str\n",
    "    train_df_path : Path\n",
    "    test_df_path : Path"
   ]
  },
  {
   "cell_type": "markdown",
   "metadata": {},
   "source": [
    "## configuration"
   ]
  },
  {
   "cell_type": "code",
   "execution_count": 14,
   "metadata": {},
   "outputs": [],
   "source": [
    "from predictor.constatns import *\n",
    "from predictor.utils import *\n",
    "from pprint import pprint"
   ]
  },
  {
   "cell_type": "code",
   "execution_count": 15,
   "metadata": {},
   "outputs": [],
   "source": [
    "class ConfigurationManager:\n",
    "    def __init__(\n",
    "        self,\n",
    "        config_file_path = CONFIG_FILE_PATH,\n",
    "        schema_file_path = SCHEMA_FILE_PATH):\n",
    "\n",
    "        self.config = read_yaml(config_file_path)\n",
    "        self.schema = read_yaml(schema_file_path)\n",
    "\n",
    "        create_dirs([self.config.artifacts_root])\n",
    "        \n",
    "    \n",
    "    def get_data_transformation_config(self):\n",
    "        config = self.config.data_transformation\n",
    "\n",
    "        create_dirs([config.root_dir])\n",
    "\n",
    "        return DataTransformationConfig(\n",
    "            root_dir=config.root_dir,\n",
    "            data_path=config.data_path,\n",
    "            Status_file=config.STATUS_FILE,\n",
    "            train_df_path=config.train_df_path,\n",
    "            test_df_path=config.test_df_path\n",
    "        )\n",
    "        "
   ]
  },
  {
   "cell_type": "code",
   "execution_count": 16,
   "metadata": {},
   "outputs": [
    {
     "name": "stdout",
     "output_type": "stream",
     "text": [
      "[2023-09-15 10:36:46,213: INFO: utils: yaml file: config\\config.yaml loaded successfully]\n",
      "ConfigBox({'artifacts_root': 'artifacts', 'data_validation': {'root_dir': 'artifacts\\\\validation', 'data_dir': 'artifacts\\\\cleand_data\\\\billionaires.csv', 'STATUS_FILE': 'artifacts\\\\cleand_data\\\\data_validation_status.txt'}, 'data_transformation': {'root_dir': 'artifacts\\\\transformed_data', 'data_path': 'artifacts\\\\cleand_data\\\\encoded_data.csv', 'STATUS_FILE': 'artifacts\\\\cleand_data\\\\data_validation_status.txt', 'train_df_path': 'artifacts\\\\transformed_data\\\\train.csv', 'test_df_path': 'artifacts\\\\transformed_data\\\\test.csv'}})\n"
     ]
    }
   ],
   "source": [
    "pprint(read_yaml(CONFIG_FILE_PATH))"
   ]
  },
  {
   "cell_type": "markdown",
   "metadata": {},
   "source": [
    "## components"
   ]
  },
  {
   "cell_type": "code",
   "execution_count": 17,
   "metadata": {},
   "outputs": [],
   "source": [
    "import pandas as pd\n",
    "from sklearn.model_selection import train_test_split\n",
    "from sklearn.preprocessing import MinMaxScaler\n",
    "from sklearn.compose import ColumnTransformer"
   ]
  },
  {
   "cell_type": "code",
   "execution_count": 19,
   "metadata": {},
   "outputs": [],
   "source": [
    "class TransformData:\n",
    "    def __init__(self,config_transform_data:DataTransformationConfig) -> None:\n",
    "        self.trans_config = config_transform_data\n",
    "\n",
    "    def train_test_split_func(self):\n",
    "        df = pd.read_csv(self.trans_config.data_path)\n",
    "        train_df , test_df = train_test_split(df,test_size=0.23)\n",
    "\n",
    "        # train_df.to_csv(self.trans_config.train_df_path,index=False)\n",
    "        # test_df.to_csv(self.trans_config.test_df_path,index=False)\n",
    "\n",
    "        logger.info(\"Splited data into training and test sets\")\n",
    "        logger.info(train_df.shape)\n",
    "        logger.info(test_df.shape)\n",
    "\n",
    "        return (\n",
    "            train_df,test_df\n",
    "        )\n",
    "\n",
    "    def scale_data(self):\n",
    "        train_df , test_df = self.train_test_split_func()\n",
    "        X_train = train_df.drop(columns=['net_worth','full_name'])\n",
    "        X_test = test_df.drop(columns=['net_worth','full_name'])\n",
    "        transformer = ColumnTransformer(transformers=[\n",
    "                ('scale_values',MinMaxScaler(),['rank', 'age', 'country_of_citizenship', 'business_category', 'wealth_status'])\n",
    "\n",
    "            ],remainder='passthrough')\n",
    "        \n",
    "        X_train_transformed = transformer.fit_transform(X_train)\n",
    "        X_test_transformed = transformer.fit_transform(X_test)\n",
    "\n",
    "        train_transformed = pd.DataFrame(data=X_train_transformed,columns=transformer.get_feature_names_out())\n",
    "        test_transformed = pd.DataFrame(data=X_test_transformed,columns=transformer.get_feature_names_out())\n",
    "\n",
    "        train_transformed.to_csv(self.trans_config.train_df_path,index=False)\n",
    "        test_transformed.to_csv(self.trans_config.test_df_path,index=False)\n",
    "        \n",
    "        logger.info(\"transformed data\")\n",
    "        logger.info(train_transformed.shape)\n",
    "        logger.info(test_transformed.shape)   \n",
    "\n",
    "\n",
    "    \n",
    "        # return train_transformed , test_transformed\n",
    "    \n",
    "        "
   ]
  },
  {
   "cell_type": "markdown",
   "metadata": {},
   "source": [
    "## Pipe line"
   ]
  },
  {
   "cell_type": "code",
   "execution_count": 20,
   "metadata": {},
   "outputs": [
    {
     "name": "stdout",
     "output_type": "stream",
     "text": [
      "[2023-09-15 10:37:34,545: INFO: utils: yaml file: config\\config.yaml loaded successfully]\n",
      "[2023-09-15 10:37:34,562: INFO: utils: yaml file: schema.yaml loaded successfully]\n",
      "[2023-09-15 10:37:34,564: INFO: utils: Created artifacts]\n",
      "[2023-09-15 10:37:34,565: INFO: utils: Created artifacts\\transformed_data]\n",
      "[2023-09-15 10:37:34,588: INFO: 3388847474: Splited data into training and test sets]\n",
      "[2023-09-15 10:37:34,589: INFO: 3388847474: (1800, 9)]\n",
      "[2023-09-15 10:37:34,590: INFO: 3388847474: (538, 9)]\n",
      "[2023-09-15 10:37:34,637: INFO: 3388847474: transformed data]\n",
      "[2023-09-15 10:37:34,640: INFO: 3388847474: (1800, 7)]\n",
      "[2023-09-15 10:37:34,641: INFO: 3388847474: (538, 7)]\n"
     ]
    }
   ],
   "source": [
    "try:\n",
    "    config = ConfigurationManager()\n",
    "    data_transformation_config = config.get_data_transformation_config()\n",
    "    data_transformation = TransformData(config_transform_data=data_transformation_config)\n",
    "    data_transformation.scale_data()\n",
    "except Exception as e:\n",
    "    raise e"
   ]
  },
  {
   "cell_type": "code",
   "execution_count": null,
   "metadata": {},
   "outputs": [],
   "source": []
  },
  {
   "cell_type": "code",
   "execution_count": null,
   "metadata": {},
   "outputs": [],
   "source": []
  },
  {
   "cell_type": "code",
   "execution_count": null,
   "metadata": {},
   "outputs": [],
   "source": []
  },
  {
   "cell_type": "code",
   "execution_count": null,
   "metadata": {},
   "outputs": [],
   "source": []
  },
  {
   "cell_type": "code",
   "execution_count": null,
   "metadata": {},
   "outputs": [],
   "source": []
  },
  {
   "cell_type": "code",
   "execution_count": null,
   "metadata": {},
   "outputs": [],
   "source": []
  },
  {
   "cell_type": "code",
   "execution_count": null,
   "metadata": {},
   "outputs": [],
   "source": []
  }
 ],
 "metadata": {
  "kernelspec": {
   "display_name": "forbesvenv",
   "language": "python",
   "name": "python3"
  },
  "language_info": {
   "codemirror_mode": {
    "name": "ipython",
    "version": 3
   },
   "file_extension": ".py",
   "mimetype": "text/x-python",
   "name": "python",
   "nbconvert_exporter": "python",
   "pygments_lexer": "ipython3",
   "version": "3.11.3"
  },
  "orig_nbformat": 4
 },
 "nbformat": 4,
 "nbformat_minor": 2
}
