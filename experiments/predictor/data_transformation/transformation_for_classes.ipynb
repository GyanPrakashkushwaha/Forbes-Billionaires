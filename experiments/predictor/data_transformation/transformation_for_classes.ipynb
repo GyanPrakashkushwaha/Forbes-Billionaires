{
 "cells": [
  {
   "cell_type": "code",
   "execution_count": 18,
   "metadata": {},
   "outputs": [
    {
     "name": "stdout",
     "output_type": "stream",
     "text": [
      "d:\\vscode_machineLearning\\BEST_PROJECTS\\ForbsBillionaires\n",
      "d:\\vscode_machineLearning\\BEST_PROJECTS\\ForbsBillionaires\n"
     ]
    }
   ],
   "source": [
    "import os\n",
    "print(os.getcwd())\n",
    "os.chdir(\"d:/vscode_machineLearning/BEST_PROJECTS/ForbsBillionaires\")\n",
    "print(os.getcwd())"
   ]
  },
  {
   "cell_type": "markdown",
   "metadata": {},
   "source": [
    "## Entity"
   ]
  },
  {
   "cell_type": "code",
   "execution_count": 19,
   "metadata": {},
   "outputs": [],
   "source": [
    "from dataclasses import dataclass\n",
    "from pathlib import Path"
   ]
  },
  {
   "cell_type": "code",
   "execution_count": 20,
   "metadata": {},
   "outputs": [],
   "source": [
    "@dataclass(frozen=True)\n",
    "class DataTransformationConfig:\n",
    "    root_dir : Path\n",
    "    data_path : Path\n",
    "    Status_file : str\n",
    "    train_df_path : Path\n",
    "    test_df_path : Path"
   ]
  },
  {
   "cell_type": "markdown",
   "metadata": {},
   "source": [
    "## configuration"
   ]
  },
  {
   "cell_type": "code",
   "execution_count": 21,
   "metadata": {},
   "outputs": [],
   "source": [
    "from predictor.constatns import *\n",
    "from predictor.utils import *\n",
    "from pprint import pprint"
   ]
  },
  {
   "cell_type": "code",
   "execution_count": 22,
   "metadata": {},
   "outputs": [],
   "source": [
    "class ConfigurationManager:\n",
    "    def __init__(\n",
    "        self,\n",
    "        config_file_path = CONFIG_FILE_PATH,\n",
    "        schema_file_path = SCHEMA_FILE_PATH):\n",
    "\n",
    "        self.config = read_yaml(config_file_path)\n",
    "        self.schema = read_yaml(schema_file_path)\n",
    "\n",
    "        create_dirs([self.config.artifacts_root])\n",
    "        \n",
    "    \n",
    "    def get_data_transformation_config(self):\n",
    "        config = self.config.data_transformation\n",
    "\n",
    "        create_dirs([config.root_dir])\n",
    "\n",
    "        return DataTransformationConfig(\n",
    "            root_dir=config.root_dir,\n",
    "            data_path=config.data_path,\n",
    "            Status_file=config.STATUS_FILE,\n",
    "            train_df_path=config.train_df_path,\n",
    "            test_df_path=config.test_df_path\n",
    "        )\n",
    "        "
   ]
  },
  {
   "cell_type": "code",
   "execution_count": 23,
   "metadata": {},
   "outputs": [
    {
     "name": "stdout",
     "output_type": "stream",
     "text": [
      "[2023-09-14 12:55:04,793: INFO: utils: yaml file: config\\config.yaml loaded successfully]\n",
      "ConfigBox({'artifacts_root': 'artifacts', 'data_validation': {'root_dir': 'artifacts\\\\validation', 'data_dir': 'artifacts\\\\cleand_data\\\\billionaires.csv', 'STATUS_FILE': 'artifacts\\\\cleand_data\\\\data_validation_status.txt'}, 'data_transformation': {'root_dir': 'artifacts\\\\transformed_data', 'data_path': 'artifacts\\\\cleand_data\\\\encoded_data.csv', 'STATUS_FILE': 'artifacts\\\\cleand_data\\\\data_validation_status.txt', 'train_df_path': 'artifacts\\\\transformed_data\\\\train.csv', 'test_df_path': 'artifacts\\\\transformed_data\\\\test.csv'}})\n"
     ]
    }
   ],
   "source": [
    "pprint(read_yaml(CONFIG_FILE_PATH))"
   ]
  },
  {
   "cell_type": "markdown",
   "metadata": {},
   "source": [
    "## components"
   ]
  },
  {
   "cell_type": "code",
   "execution_count": 24,
   "metadata": {},
   "outputs": [],
   "source": [
    "import pandas as pd\n",
    "from sklearn.model_selection import train_test_split"
   ]
  },
  {
   "cell_type": "code",
   "execution_count": 25,
   "metadata": {},
   "outputs": [],
   "source": [
    "class TransformData:\n",
    "    def __init__(self,config_transform_data:DataTransformationConfig) -> None:\n",
    "        self.trans_config = config_transform_data\n",
    "\n",
    "    def train_test_split(self):\n",
    "        df = pd.read_csv(self.trans_config.data_path)\n",
    "        train_df , test_df = train_test_split(df,test_size=0.23)\n",
    "\n",
    "        train_df.to_csv(self.trans_config.train_df_path,index=False)\n",
    "        test_df.to_csv(self.trans_config.test_df_path,index=False)\n",
    "\n",
    "        logger.info(\"Splited data into training and test sets\")\n",
    "        logger.info(train_df.shape)\n",
    "        logger.info(test_df.shape)\n"
   ]
  },
  {
   "cell_type": "markdown",
   "metadata": {},
   "source": [
    "## Pipe line"
   ]
  },
  {
   "cell_type": "code",
   "execution_count": 26,
   "metadata": {},
   "outputs": [
    {
     "name": "stdout",
     "output_type": "stream",
     "text": [
      "[2023-09-14 12:55:04,820: INFO: utils: yaml file: config\\config.yaml loaded successfully]\n",
      "[2023-09-14 12:55:04,822: INFO: utils: yaml file: schema.yaml loaded successfully]\n",
      "[2023-09-14 12:55:04,824: INFO: utils: Created artifacts]\n",
      "[2023-09-14 12:55:04,824: INFO: utils: Created artifacts\\transformed_data]\n",
      "[2023-09-14 12:55:04,843: INFO: 3695616522: Splited data into training and test sets]\n",
      "[2023-09-14 12:55:04,844: INFO: 3695616522: (1800, 9)]\n",
      "[2023-09-14 12:55:04,845: INFO: 3695616522: (538, 9)]\n"
     ]
    }
   ],
   "source": [
    "try:\n",
    "    config = ConfigurationManager()\n",
    "    data_transformation_config = config.get_data_transformation_config()\n",
    "    data_transformation = TransformData(config_transform_data=data_transformation_config)\n",
    "    data_transformation.train_test_split()\n",
    "except Exception as e:\n",
    "    raise e"
   ]
  },
  {
   "cell_type": "code",
   "execution_count": null,
   "metadata": {},
   "outputs": [],
   "source": []
  },
  {
   "cell_type": "code",
   "execution_count": null,
   "metadata": {},
   "outputs": [],
   "source": []
  },
  {
   "cell_type": "code",
   "execution_count": null,
   "metadata": {},
   "outputs": [],
   "source": []
  },
  {
   "cell_type": "code",
   "execution_count": null,
   "metadata": {},
   "outputs": [],
   "source": []
  },
  {
   "cell_type": "code",
   "execution_count": null,
   "metadata": {},
   "outputs": [],
   "source": []
  },
  {
   "cell_type": "code",
   "execution_count": null,
   "metadata": {},
   "outputs": [],
   "source": []
  },
  {
   "cell_type": "code",
   "execution_count": null,
   "metadata": {},
   "outputs": [],
   "source": []
  }
 ],
 "metadata": {
  "kernelspec": {
   "display_name": "forbesvenv",
   "language": "python",
   "name": "python3"
  },
  "language_info": {
   "codemirror_mode": {
    "name": "ipython",
    "version": 3
   },
   "file_extension": ".py",
   "mimetype": "text/x-python",
   "name": "python",
   "nbconvert_exporter": "python",
   "pygments_lexer": "ipython3",
   "version": "3.11.3"
  },
  "orig_nbformat": 4
 },
 "nbformat": 4,
 "nbformat_minor": 2
}
