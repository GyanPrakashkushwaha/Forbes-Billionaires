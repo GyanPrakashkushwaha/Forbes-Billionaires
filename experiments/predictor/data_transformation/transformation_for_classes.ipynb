{
 "cells": [
  {
   "cell_type": "code",
   "execution_count": 42,
   "metadata": {},
   "outputs": [
    {
     "name": "stdout",
     "output_type": "stream",
     "text": [
      "d:\\vscode_machineLearning\\BEST_PROJECTS\\ForbsBillionaires\n",
      "d:\\vscode_machineLearning\\BEST_PROJECTS\\ForbsBillionaires\n"
     ]
    }
   ],
   "source": [
    "import os\n",
    "print(os.getcwd())\n",
    "os.chdir(\"d:/vscode_machineLearning/BEST_PROJECTS/ForbsBillionaires\")\n",
    "print(os.getcwd())"
   ]
  },
  {
   "cell_type": "markdown",
   "metadata": {},
   "source": [
    "## Entity"
   ]
  },
  {
   "cell_type": "code",
   "execution_count": 43,
   "metadata": {},
   "outputs": [],
   "source": [
    "from dataclasses import dataclass\n",
    "from pathlib import Path"
   ]
  },
  {
   "cell_type": "code",
   "execution_count": 44,
   "metadata": {},
   "outputs": [],
   "source": [
    "@dataclass(frozen=True)\n",
    "class DataTransformationConfig:\n",
    "    root_dir : Path\n",
    "    data_path : Path\n",
    "    Status_file : str\n",
    "    transform_train_df_path : Path\n",
    "    transform_test_df_path : Path\n",
    "    feature_renamer_scehma:dict"
   ]
  },
  {
   "cell_type": "markdown",
   "metadata": {},
   "source": [
    "## configuration"
   ]
  },
  {
   "cell_type": "code",
   "execution_count": 45,
   "metadata": {},
   "outputs": [],
   "source": [
    "from predictor.constatns import *\n",
    "from predictor.utils import *\n",
    "from pprint import pprint"
   ]
  },
  {
   "cell_type": "code",
   "execution_count": 46,
   "metadata": {},
   "outputs": [],
   "source": [
    "class ConfigurationManager:\n",
    "    def __init__(\n",
    "        self,\n",
    "        config_file_path = CONFIG_FILE_PATH,\n",
    "        schema_file_path = SCHEMA_FILE_PATH):\n",
    "\n",
    "        self.config = read_yaml(config_file_path)\n",
    "        self.schema = read_yaml(schema_file_path)\n",
    "\n",
    "        create_dirs([self.config.artifacts_root])\n",
    "        \n",
    "    \n",
    "    def get_data_transformation_config(self):\n",
    "        config = self.config.data_transformation\n",
    "        schema = self.schema.columns_renamer\n",
    "\n",
    "        create_dirs([config.root_dir])\n",
    "\n",
    "        return DataTransformationConfig(\n",
    "            root_dir=config.root_dir,\n",
    "            data_path=config.data_path,\n",
    "            Status_file=config.STATUS_FILE,\n",
    "            transform_train_df_path=config.transformed_train_df_path,\n",
    "            transform_test_df_path=config.transformed_test_df_path,\n",
    "            feature_renamer_scehma=schema\n",
    "        )\n",
    "        "
   ]
  },
  {
   "cell_type": "code",
   "execution_count": 47,
   "metadata": {},
   "outputs": [
    {
     "name": "stdout",
     "output_type": "stream",
     "text": [
      "[2023-09-15 11:36:43,474: INFO: utils: yaml file: config\\config.yaml loaded successfully]\n",
      "ConfigBox({'artifacts_root': 'artifacts', 'data_validation': {'root_dir': 'artifacts\\\\validation', 'data_dir': 'artifacts\\\\cleand_data\\\\billionaires.csv', 'STATUS_FILE': 'artifacts\\\\cleand_data\\\\data_validation_status.txt'}, 'data_transformation': {'root_dir': 'artifacts\\\\transformed_data', 'data_path': 'artifacts\\\\cleand_data\\\\encoded_data.csv', 'STATUS_FILE': 'artifacts\\\\cleand_data\\\\data_validation_status.txt', 'transformed_train_df_path': 'artifacts\\\\transformed_data\\\\train_transformed.csv', 'transformed_test_df_path': 'artifacts\\\\transformed_data\\\\test_transformed.csv'}})\n"
     ]
    }
   ],
   "source": [
    "pprint(read_yaml(CONFIG_FILE_PATH))"
   ]
  },
  {
   "cell_type": "code",
   "execution_count": 48,
   "metadata": {},
   "outputs": [
    {
     "name": "stdout",
     "output_type": "stream",
     "text": [
      "[2023-09-15 11:36:43,485: INFO: utils: yaml file: schema.yaml loaded successfully]\n"
     ]
    },
    {
     "data": {
      "text/plain": [
       "ConfigBox({'scale_values__rank': 'rank', 'scale_values__age': 'age', 'scale_values__country_of_citizenship': 'country_of_citizenship', 'scale_values__business_category': 'business_category', 'scale_values__wealth_status': 'wealth_status', 'remainder__gender': 'gender', 'remainder__self_made': 'self_made'})"
      ]
     },
     "execution_count": 48,
     "metadata": {},
     "output_type": "execute_result"
    }
   ],
   "source": [
    "read_yaml(SCHEMA_FILE_PATH).columns_renamer"
   ]
  },
  {
   "cell_type": "markdown",
   "metadata": {},
   "source": [
    "## components"
   ]
  },
  {
   "cell_type": "code",
   "execution_count": 49,
   "metadata": {},
   "outputs": [],
   "source": [
    "import pandas as pd\n",
    "from sklearn.model_selection import train_test_split\n",
    "from sklearn.preprocessing import MinMaxScaler\n",
    "from sklearn.compose import ColumnTransformer"
   ]
  },
  {
   "cell_type": "code",
   "execution_count": 50,
   "metadata": {},
   "outputs": [],
   "source": [
    "class TransformData:\n",
    "    def __init__(self,config_transform_data:DataTransformationConfig) -> None:\n",
    "        self.trans_config = config_transform_data\n",
    "\n",
    "    def train_test_split_func(self):\n",
    "        df = pd.read_csv(self.trans_config.data_path)\n",
    "        train_df , test_df = train_test_split(df,test_size=0.23)\n",
    "\n",
    "        logger.info(\"Splited data into training and test sets\")\n",
    "        logger.info(train_df.shape)\n",
    "        logger.info(test_df.shape)\n",
    "\n",
    "        return (\n",
    "            train_df,test_df\n",
    "        )\n",
    "\n",
    "    def scale_data(self):\n",
    "        train_df , test_df = self.train_test_split_func()\n",
    "        X_train = train_df.drop(columns=['net_worth','full_name'])\n",
    "        X_test = test_df.drop(columns=['net_worth','full_name'])\n",
    "        transformer = ColumnTransformer(transformers=[\n",
    "                ('scale_values',MinMaxScaler(),['rank', 'age', 'country_of_citizenship', 'business_category', 'wealth_status'])\n",
    "\n",
    "            ],remainder='passthrough')\n",
    "        \n",
    "        X_train_transformed = transformer.fit_transform(X_train)\n",
    "        X_test_transformed = transformer.fit_transform(X_test)\n",
    "\n",
    "        train_transformed = pd.DataFrame(data=X_train_transformed,columns=transformer.get_feature_names_out())\n",
    "        test_transformed = pd.DataFrame(data=X_test_transformed,columns=transformer.get_feature_names_out())\n",
    "\n",
    "        train_transformed = train_transformed.rename(columns={\n",
    "                                    'scale_values__rank': 'rank',\n",
    "                                    'scale_values__age': 'age',\n",
    "                                    'scale_values__country_of_citizenship': 'country_of_citizenship',\n",
    "                                    'scale_values__business_category': 'business_category',\n",
    "                                    'scale_values__wealth_status': 'wealth_status',\n",
    "                                    'remainder__gender': 'gender',\n",
    "                                    'remainder__self_made': 'self_made'\n",
    "                                    }\n",
    "                                    )\n",
    "        \n",
    "        test_transformed = test_transformed.rename(columns={\n",
    "                                    'scale_values__rank': 'rank',\n",
    "                                    'scale_values__age': 'age',\n",
    "                                    'scale_values__country_of_citizenship': 'country_of_citizenship',\n",
    "                                    'scale_values__business_category': 'business_category',\n",
    "                                    'scale_values__wealth_status': 'wealth_status',\n",
    "                                    'remainder__gender': 'gender',\n",
    "                                    'remainder__self_made': 'self_made'\n",
    "                                    }\n",
    "                                    )\n",
    "\n",
    "        # train_transformed = train_transformed.rename(self.trans_config.feature_renamer_scehma)\n",
    "        # test_transformed = test_transformed.rename(self.trans_config.feature_renamer_scehma)\n",
    "        logger.info(f'renamed the features name')\n",
    "\n",
    "        \n",
    "\n",
    "        train_transformed.to_csv(self.trans_config.transform_train_df_path,index=False)\n",
    "        test_transformed.to_csv(self.trans_config.transform_test_df_path,index=False)\n",
    "        \n",
    "        logger.info(\"transformed data\")\n",
    "        logger.info(train_transformed.shape)\n",
    "        logger.info(test_transformed.shape)   \n",
    "\n",
    "        "
   ]
  },
  {
   "cell_type": "markdown",
   "metadata": {},
   "source": [
    "## Pipe line"
   ]
  },
  {
   "cell_type": "code",
   "execution_count": 51,
   "metadata": {},
   "outputs": [
    {
     "name": "stdout",
     "output_type": "stream",
     "text": [
      "[2023-09-15 11:36:43,522: INFO: utils: yaml file: config\\config.yaml loaded successfully]\n",
      "[2023-09-15 11:36:43,524: INFO: utils: yaml file: schema.yaml loaded successfully]\n",
      "[2023-09-15 11:36:43,526: INFO: utils: Created artifacts]\n",
      "[2023-09-15 11:36:43,528: INFO: utils: Created artifacts\\transformed_data]\n",
      "[2023-09-15 11:36:43,534: INFO: 1091492594: Splited data into training and test sets]\n",
      "[2023-09-15 11:36:43,535: INFO: 1091492594: (1800, 9)]\n",
      "[2023-09-15 11:36:43,536: INFO: 1091492594: (538, 9)]\n",
      "[2023-09-15 11:36:43,546: INFO: 1091492594: renamed the features name]\n",
      "[2023-09-15 11:36:43,569: INFO: 1091492594: transformed data]\n",
      "[2023-09-15 11:36:43,571: INFO: 1091492594: (1800, 7)]\n",
      "[2023-09-15 11:36:43,572: INFO: 1091492594: (538, 7)]\n"
     ]
    }
   ],
   "source": [
    "try:\n",
    "    config = ConfigurationManager()\n",
    "    data_transformation_config = config.get_data_transformation_config()\n",
    "    data_transformation = TransformData(config_transform_data=data_transformation_config)\n",
    "    data_transformation.scale_data()\n",
    "except Exception as e:\n",
    "    raise e"
   ]
  },
  {
   "cell_type": "code",
   "execution_count": null,
   "metadata": {},
   "outputs": [],
   "source": []
  },
  {
   "cell_type": "code",
   "execution_count": null,
   "metadata": {},
   "outputs": [],
   "source": []
  },
  {
   "cell_type": "code",
   "execution_count": null,
   "metadata": {},
   "outputs": [],
   "source": []
  },
  {
   "cell_type": "code",
   "execution_count": null,
   "metadata": {},
   "outputs": [],
   "source": []
  },
  {
   "cell_type": "code",
   "execution_count": null,
   "metadata": {},
   "outputs": [],
   "source": []
  },
  {
   "cell_type": "code",
   "execution_count": null,
   "metadata": {},
   "outputs": [],
   "source": []
  },
  {
   "cell_type": "code",
   "execution_count": null,
   "metadata": {},
   "outputs": [],
   "source": []
  }
 ],
 "metadata": {
  "kernelspec": {
   "display_name": "forbesvenv",
   "language": "python",
   "name": "python3"
  },
  "language_info": {
   "codemirror_mode": {
    "name": "ipython",
    "version": 3
   },
   "file_extension": ".py",
   "mimetype": "text/x-python",
   "name": "python",
   "nbconvert_exporter": "python",
   "pygments_lexer": "ipython3",
   "version": "3.11.3"
  },
  "orig_nbformat": 4
 },
 "nbformat": 4,
 "nbformat_minor": 2
}
